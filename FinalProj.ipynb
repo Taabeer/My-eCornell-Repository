{
 "cells": [
  {
   "cell_type": "markdown",
   "metadata": {},
   "source": [
    "# Lab 8: Define and Solve an ML Problem of Your Choosing"
   ]
  },
  {
   "cell_type": "code",
   "execution_count": 1,
   "metadata": {},
   "outputs": [],
   "source": [
    "import pandas as pd\n",
    "import numpy as np\n",
    "import os \n",
    "import matplotlib.pyplot as plt\n",
    "import seaborn as sns"
   ]
  },
  {
   "cell_type": "markdown",
   "metadata": {},
   "source": [
    "In this lab assignment, you will follow the machine learning life cycle and implement a model to solve a machine learning problem of your choosing. You will select a data set and choose a predictive problem that the data set supports.  You will then inspect the data with your problem in mind and begin to formulate a  project plan. You will then implement the machine learning project plan. \n",
    "\n",
    "You will complete the following tasks:\n",
    "\n",
    "1. Build Your DataFrame\n",
    "2. Define Your ML Problem\n",
    "3. Perform exploratory data analysis to understand your data.\n",
    "4. Define Your Project Plan\n",
    "5. Implement Your Project Plan:\n",
    "    * Prepare your data for your model.\n",
    "    * Fit your model to the training data and evaluate your model.\n",
    "    * Improve your model's performance."
   ]
  },
  {
   "cell_type": "markdown",
   "metadata": {},
   "source": [
    "## Part 1: Build Your DataFrame\n",
    "\n",
    "You will have the option to choose one of four data sets that you have worked with in this program:\n",
    "\n",
    "* The \"census\" data set that contains Census information from 1994: `censusData.csv`\n",
    "* Airbnb NYC \"listings\" data set: `airbnbListingsData.csv`\n",
    "* World Happiness Report (WHR) data set: `WHR2018Chapter2OnlineData.csv`\n",
    "* Book Review data set: `bookReviewsData.csv`\n",
    "\n",
    "Note that these are variations of the data sets that you have worked with in this program. For example, some do not include some of the preprocessing necessary for specific models. \n",
    "\n",
    "#### Load a Data Set and Save it as a Pandas DataFrame\n",
    "\n",
    "The code cell below contains filenames (path + filename) for each of the four data sets available to you.\n",
    "\n",
    "<b>Task:</b> In the code cell below, use the same method you have been using to load the data using `pd.read_csv()` and save it to DataFrame `df`. \n",
    "\n",
    "You can load each file as a new DataFrame to inspect the data before choosing your data set."
   ]
  },
  {
   "cell_type": "code",
   "execution_count": 2,
   "metadata": {},
   "outputs": [
    {
     "data": {
      "text/html": [
       "<div>\n",
       "<style scoped>\n",
       "    .dataframe tbody tr th:only-of-type {\n",
       "        vertical-align: middle;\n",
       "    }\n",
       "\n",
       "    .dataframe tbody tr th {\n",
       "        vertical-align: top;\n",
       "    }\n",
       "\n",
       "    .dataframe thead th {\n",
       "        text-align: right;\n",
       "    }\n",
       "</style>\n",
       "<table border=\"1\" class=\"dataframe\">\n",
       "  <thead>\n",
       "    <tr style=\"text-align: right;\">\n",
       "      <th></th>\n",
       "      <th>published_date</th>\n",
       "      <th>published_platform</th>\n",
       "      <th>rating</th>\n",
       "      <th>type</th>\n",
       "      <th>text</th>\n",
       "      <th>title</th>\n",
       "      <th>helpful_votes</th>\n",
       "    </tr>\n",
       "  </thead>\n",
       "  <tbody>\n",
       "    <tr>\n",
       "      <th>0</th>\n",
       "      <td>2024-03-12T14:41:14-04:00</td>\n",
       "      <td>Desktop</td>\n",
       "      <td>3</td>\n",
       "      <td>review</td>\n",
       "      <td>We used this airline to go from Singapore to L...</td>\n",
       "      <td>Ok</td>\n",
       "      <td>0</td>\n",
       "    </tr>\n",
       "    <tr>\n",
       "      <th>1</th>\n",
       "      <td>2024-03-11T19:39:13-04:00</td>\n",
       "      <td>Desktop</td>\n",
       "      <td>5</td>\n",
       "      <td>review</td>\n",
       "      <td>The service on Singapore Airlines Suites Class...</td>\n",
       "      <td>The service in Suites Class makes one feel lik...</td>\n",
       "      <td>0</td>\n",
       "    </tr>\n",
       "    <tr>\n",
       "      <th>2</th>\n",
       "      <td>2024-03-11T12:20:23-04:00</td>\n",
       "      <td>Desktop</td>\n",
       "      <td>1</td>\n",
       "      <td>review</td>\n",
       "      <td>Booked, paid and received email confirmation f...</td>\n",
       "      <td>Don’t give them your money</td>\n",
       "      <td>0</td>\n",
       "    </tr>\n",
       "    <tr>\n",
       "      <th>3</th>\n",
       "      <td>2024-03-11T07:12:27-04:00</td>\n",
       "      <td>Desktop</td>\n",
       "      <td>5</td>\n",
       "      <td>review</td>\n",
       "      <td>Best airline in the world, seats, food, servic...</td>\n",
       "      <td>Best Airline in the World</td>\n",
       "      <td>0</td>\n",
       "    </tr>\n",
       "    <tr>\n",
       "      <th>4</th>\n",
       "      <td>2024-03-10T05:34:18-04:00</td>\n",
       "      <td>Desktop</td>\n",
       "      <td>2</td>\n",
       "      <td>review</td>\n",
       "      <td>Premium Economy Seating on Singapore Airlines ...</td>\n",
       "      <td>Premium Economy Seating on Singapore Airlines ...</td>\n",
       "      <td>0</td>\n",
       "    </tr>\n",
       "    <tr>\n",
       "      <th>5</th>\n",
       "      <td>2024-03-10T01:16:48-05:00</td>\n",
       "      <td>Desktop</td>\n",
       "      <td>1</td>\n",
       "      <td>review</td>\n",
       "      <td>We booked our flights a full 9 months in advan...</td>\n",
       "      <td>Impossible to get a promised refund</td>\n",
       "      <td>0</td>\n",
       "    </tr>\n",
       "    <tr>\n",
       "      <th>6</th>\n",
       "      <td>2024-03-10T00:54:43-05:00</td>\n",
       "      <td>Desktop</td>\n",
       "      <td>5</td>\n",
       "      <td>review</td>\n",
       "      <td>This was a fascinating experience. As I sat in...</td>\n",
       "      <td>WOAH. FLY WITH SQ</td>\n",
       "      <td>0</td>\n",
       "    </tr>\n",
       "    <tr>\n",
       "      <th>7</th>\n",
       "      <td>2024-03-09T17:45:56-05:00</td>\n",
       "      <td>Desktop</td>\n",
       "      <td>1</td>\n",
       "      <td>review</td>\n",
       "      <td>Very bad expeirence for flight check in at bai...</td>\n",
       "      <td>Long Q to check in</td>\n",
       "      <td>0</td>\n",
       "    </tr>\n",
       "    <tr>\n",
       "      <th>8</th>\n",
       "      <td>2024-03-08T23:10:41-05:00</td>\n",
       "      <td>Desktop</td>\n",
       "      <td>1</td>\n",
       "      <td>review</td>\n",
       "      <td>Respected Faculty, I am Bincy, writing this  t...</td>\n",
       "      <td>Very bad, disappointed</td>\n",
       "      <td>0</td>\n",
       "    </tr>\n",
       "    <tr>\n",
       "      <th>9</th>\n",
       "      <td>2024-03-08T19:18:57-05:00</td>\n",
       "      <td>Desktop</td>\n",
       "      <td>1</td>\n",
       "      <td>review</td>\n",
       "      <td>I would rate Singapore airlines the worse I ha...</td>\n",
       "      <td>Give Singapore airlines a miss.</td>\n",
       "      <td>1</td>\n",
       "    </tr>\n",
       "  </tbody>\n",
       "</table>\n",
       "</div>"
      ],
      "text/plain": [
       "              published_date published_platform  rating    type  \\\n",
       "0  2024-03-12T14:41:14-04:00            Desktop       3  review   \n",
       "1  2024-03-11T19:39:13-04:00            Desktop       5  review   \n",
       "2  2024-03-11T12:20:23-04:00            Desktop       1  review   \n",
       "3  2024-03-11T07:12:27-04:00            Desktop       5  review   \n",
       "4  2024-03-10T05:34:18-04:00            Desktop       2  review   \n",
       "5  2024-03-10T01:16:48-05:00            Desktop       1  review   \n",
       "6  2024-03-10T00:54:43-05:00            Desktop       5  review   \n",
       "7  2024-03-09T17:45:56-05:00            Desktop       1  review   \n",
       "8  2024-03-08T23:10:41-05:00            Desktop       1  review   \n",
       "9  2024-03-08T19:18:57-05:00            Desktop       1  review   \n",
       "\n",
       "                                                text  \\\n",
       "0  We used this airline to go from Singapore to L...   \n",
       "1  The service on Singapore Airlines Suites Class...   \n",
       "2  Booked, paid and received email confirmation f...   \n",
       "3  Best airline in the world, seats, food, servic...   \n",
       "4  Premium Economy Seating on Singapore Airlines ...   \n",
       "5  We booked our flights a full 9 months in advan...   \n",
       "6  This was a fascinating experience. As I sat in...   \n",
       "7  Very bad expeirence for flight check in at bai...   \n",
       "8  Respected Faculty, I am Bincy, writing this  t...   \n",
       "9  I would rate Singapore airlines the worse I ha...   \n",
       "\n",
       "                                               title  helpful_votes  \n",
       "0                                                 Ok              0  \n",
       "1  The service in Suites Class makes one feel lik...              0  \n",
       "2                         Don’t give them your money              0  \n",
       "3                          Best Airline in the World              0  \n",
       "4  Premium Economy Seating on Singapore Airlines ...              0  \n",
       "5                Impossible to get a promised refund              0  \n",
       "6                                  WOAH. FLY WITH SQ              0  \n",
       "7                                 Long Q to check in              0  \n",
       "8                             Very bad, disappointed              0  \n",
       "9                    Give Singapore airlines a miss.              1  "
      ]
     },
     "execution_count": 2,
     "metadata": {},
     "output_type": "execute_result"
    }
   ],
   "source": [
    "# File names of the four data sets\n",
    "adultDataSet_filename = os.path.join(os.getcwd(), \"data\", \"censusData.csv\")\n",
    "airbnbDataSet_filename = os.path.join(os.getcwd(), \"data\", \"airbnbListingsData.csv\")\n",
    "WHRDataSet_filename = os.path.join(os.getcwd(), \"data\", \"WHR2018Chapter2OnlineData.csv\")\n",
    "bookReviewDataSet_filename = os.path.join(os.getcwd(), \"data\", \"bookReviewsData.csv\")\n",
    "\n",
    "\n",
    "df = pd.read_csv('singapore_airlines_reviews.csv')\n",
    "\n",
    "df.head(10)\n",
    "\n"
   ]
  },
  {
   "cell_type": "markdown",
   "metadata": {},
   "source": [
    "## Part 2: Define Your ML Problem\n",
    "\n",
    "Next you will formulate your ML Problem. In the markdown cell below, answer the following questions:\n",
    "\n",
    "1. List the data set you have chosen.\n",
    "2. What will you be predicting? What is the label?\n",
    "3. Is this a supervised or unsupervised learning problem? Is this a clustering, classification or regression problem? Is it a binary classificaiton or multi-class classifiction problem?\n",
    "4. What are your features? (note: this list may change after your explore your data)\n",
    "5. Explain why this is an important problem. In other words, how would a company create value with a model that predicts this label?"
   ]
  },
  {
   "cell_type": "markdown",
   "metadata": {},
   "source": [
    "1. I have chosen the singapore airlines reviews data set.\n",
    "2. I will be predicting the rating given by a customer based on other features in the dataset. The label will be the rating column. 1 is the lowest rating and 5 is the highest rating.\n",
    "3. This is a supervised learning problem. It is a multi-class classifcation problem as there are 5 possible classes that the label 'rating' can be (1,2,3,4,5)\n",
    "4. Features are published_platform, text,title, helpful votes. Type only has one unique value (review) so doesn't have any predictive value and the date\n",
    "5. This is an important problem because the company can have a better understanding of reviews, particularly negative reviews. By understanding which kinds of reviews are 1s and 2s, they can understand where to improve."
   ]
  },
  {
   "cell_type": "markdown",
   "metadata": {},
   "source": [
    "## Part 3: Understand Your Data\n",
    "\n",
    "The next step is to perform exploratory data analysis. Inspect and analyze your data set with your machine learning problem in mind. Consider the following as you inspect your data:\n",
    "\n",
    "1. What data preparation techniques would you like to use? These data preparation techniques may include:\n",
    "\n",
    "    * addressing missingness, such as replacing missing values with means\n",
    "    * finding and replacing outliers\n",
    "    * renaming features and labels\n",
    "    * finding and replacing outliers\n",
    "    * performing feature engineering techniques such as one-hot encoding on categorical features\n",
    "    * selecting appropriate features and removing irrelevant features\n",
    "    * performing specific data cleaning and preprocessing techniques for an NLP problem\n",
    "    * addressing class imbalance in your data sample to promote fair AI\n",
    "    \n",
    "\n",
    "2. What machine learning model (or models) you would like to use that is suitable for your predictive problem and data?\n",
    "    * Are there other data preparation techniques that you will need to apply to build a balanced modeling data set for your problem and model? For example, will you need to scale your data?\n",
    " \n",
    " \n",
    "3. How will you evaluate and improve the model's performance?\n",
    "    * Are there specific evaluation metrics and methods that are appropriate for your model?\n",
    "    \n",
    "\n",
    "Think of the different techniques you have used to inspect and analyze your data in this course. These include using Pandas to apply data filters, using the Pandas `describe()` method to get insight into key statistics for each column, using the Pandas `dtypes` property to inspect the data type of each column, and using Matplotlib and Seaborn to detect outliers and visualize relationships between features and labels. If you are working on a classification problem, use techniques you have learned to determine if there is class imbalance.\n",
    "\n",
    "<b>Task</b>: Use the techniques you have learned in this course to inspect and analyze your data. You can import additional packages that you have used in this course that you will need to perform this task.\n",
    "\n",
    "<b>Note</b>: You can add code cells if needed by going to the <b>Insert</b> menu and clicking on <b>Insert Cell Below</b> in the drop-drown menu."
   ]
  },
  {
   "cell_type": "markdown",
   "metadata": {},
   "source": [
    "First, it is important to gauge the completeness of the data. To do this, a check will be conducted to see if there are any null/missing values in any of the columns."
   ]
  },
  {
   "cell_type": "code",
   "execution_count": 3,
   "metadata": {},
   "outputs": [
    {
     "data": {
      "text/plain": [
       "published_date        0\n",
       "published_platform    0\n",
       "rating                0\n",
       "type                  0\n",
       "text                  0\n",
       "title                 0\n",
       "helpful_votes         0\n",
       "dtype: int64"
      ]
     },
     "execution_count": 3,
     "metadata": {},
     "output_type": "execute_result"
    }
   ],
   "source": [
    "nan_count= np.sum(df.isnull(),axis=0)\n",
    "nan_count\n",
    "# This line of code sums up all the null values per column.\n",
    "# Through the output below, it is clear that there are no null values- \n",
    "# as all columns have 0 null values"
   ]
  },
  {
   "cell_type": "markdown",
   "metadata": {},
   "source": [
    "Next, understanding correlation between features and the label can help in seeing which features will have the most predictive value. As this is a sentiment analysis orienteted task that involves understanding the text, my prediction is that there will likely be very low correlations between the non-text features and the label '"
   ]
  },
  {
   "cell_type": "code",
   "execution_count": 4,
   "metadata": {},
   "outputs": [
    {
     "data": {
      "text/plain": [
       "published_date        object\n",
       "published_platform    object\n",
       "rating                 int64\n",
       "type                  object\n",
       "text                  object\n",
       "title                 object\n",
       "helpful_votes          int64\n",
       "dtype: object"
      ]
     },
     "execution_count": 4,
     "metadata": {},
     "output_type": "execute_result"
    }
   ],
   "source": [
    "# First, an inspection of the data type of each feature will be conducted\n",
    "df.dtypes"
   ]
  },
  {
   "cell_type": "code",
   "execution_count": 5,
   "metadata": {},
   "outputs": [
    {
     "data": {
      "text/plain": [
       "-0.1192886772210416"
      ]
     },
     "execution_count": 5,
     "metadata": {},
     "output_type": "execute_result"
    }
   ],
   "source": [
    "# The only feature that is not an object (and hence a correlation can be found) is helpful_votes\n",
    "# Therefore, I will check the correlation between helpful_votes and the rating label\n",
    "df['helpful_votes'].corr(df['rating'])"
   ]
  },
  {
   "cell_type": "code",
   "execution_count": 6,
   "metadata": {},
   "outputs": [
    {
     "data": {
      "text/html": [
       "<div>\n",
       "<style scoped>\n",
       "    .dataframe tbody tr th:only-of-type {\n",
       "        vertical-align: middle;\n",
       "    }\n",
       "\n",
       "    .dataframe tbody tr th {\n",
       "        vertical-align: top;\n",
       "    }\n",
       "\n",
       "    .dataframe thead th {\n",
       "        text-align: right;\n",
       "    }\n",
       "</style>\n",
       "<table border=\"1\" class=\"dataframe\">\n",
       "  <thead>\n",
       "    <tr style=\"text-align: right;\">\n",
       "      <th></th>\n",
       "      <th>helpful votes</th>\n",
       "      <th>rating</th>\n",
       "    </tr>\n",
       "  </thead>\n",
       "  <tbody>\n",
       "    <tr>\n",
       "      <th>0</th>\n",
       "      <td>0</td>\n",
       "      <td>3</td>\n",
       "    </tr>\n",
       "    <tr>\n",
       "      <th>1</th>\n",
       "      <td>0</td>\n",
       "      <td>5</td>\n",
       "    </tr>\n",
       "    <tr>\n",
       "      <th>2</th>\n",
       "      <td>0</td>\n",
       "      <td>1</td>\n",
       "    </tr>\n",
       "    <tr>\n",
       "      <th>3</th>\n",
       "      <td>0</td>\n",
       "      <td>5</td>\n",
       "    </tr>\n",
       "    <tr>\n",
       "      <th>4</th>\n",
       "      <td>0</td>\n",
       "      <td>2</td>\n",
       "    </tr>\n",
       "    <tr>\n",
       "      <th>...</th>\n",
       "      <td>...</td>\n",
       "      <td>...</td>\n",
       "    </tr>\n",
       "    <tr>\n",
       "      <th>9995</th>\n",
       "      <td>1</td>\n",
       "      <td>5</td>\n",
       "    </tr>\n",
       "    <tr>\n",
       "      <th>9996</th>\n",
       "      <td>1</td>\n",
       "      <td>5</td>\n",
       "    </tr>\n",
       "    <tr>\n",
       "      <th>9997</th>\n",
       "      <td>1</td>\n",
       "      <td>5</td>\n",
       "    </tr>\n",
       "    <tr>\n",
       "      <th>9998</th>\n",
       "      <td>2</td>\n",
       "      <td>4</td>\n",
       "    </tr>\n",
       "    <tr>\n",
       "      <th>9999</th>\n",
       "      <td>3</td>\n",
       "      <td>4</td>\n",
       "    </tr>\n",
       "  </tbody>\n",
       "</table>\n",
       "<p>10000 rows × 2 columns</p>\n",
       "</div>"
      ],
      "text/plain": [
       "      helpful votes  rating\n",
       "0                 0       3\n",
       "1                 0       5\n",
       "2                 0       1\n",
       "3                 0       5\n",
       "4                 0       2\n",
       "...             ...     ...\n",
       "9995              1       5\n",
       "9996              1       5\n",
       "9997              1       5\n",
       "9998              2       4\n",
       "9999              3       4\n",
       "\n",
       "[10000 rows x 2 columns]"
      ]
     },
     "execution_count": 6,
     "metadata": {},
     "output_type": "execute_result"
    }
   ],
   "source": [
    "# This value indicates a low negative linear correaltion between helfpul_votes and rating\n",
    "df_corr1 = pd.DataFrame({'helpful votes': df['helpful_votes'],'rating': df['rating']})\n",
    "df_corr1"
   ]
  },
  {
   "cell_type": "markdown",
   "metadata": {},
   "source": [
    "To better visualize the correlation, a scatterplot will be created."
   ]
  },
  {
   "cell_type": "code",
   "execution_count": 7,
   "metadata": {},
   "outputs": [
    {
     "data": {
      "text/plain": [
       "<AxesSubplot: >"
      ]
     },
     "execution_count": 7,
     "metadata": {},
     "output_type": "execute_result"
    },
    {
     "data": {
      "image/png": "[encoded data removed]",
      "text/plain": [
       "<Figure size 640x480 with 1 Axes>"
      ]
     },
     "metadata": {},
     "output_type": "display_data"
    }
   ],
   "source": [
    "sns.scatterplot(data=df_corr1[:50])"
   ]
  },
  {
   "cell_type": "code",
   "execution_count": 8,
   "metadata": {},
   "outputs": [
    {
     "name": "stdout",
     "output_type": "stream",
     "text": [
      "[  0   1   3   2   4  12   7   5  21   6   9   8  10  35  27 108  25  61\n",
      "  11 158  90  29  41  43  56  17  24]\n",
      "1      3493\n",
      "0      3091\n",
      "2      2481\n",
      "3       564\n",
      "4       190\n",
      "5        77\n",
      "6        38\n",
      "7        17\n",
      "8        10\n",
      "9         8\n",
      "10        7\n",
      "12        4\n",
      "27        3\n",
      "11        3\n",
      "21        2\n",
      "29        1\n",
      "17        1\n",
      "56        1\n",
      "43        1\n",
      "41        1\n",
      "35        1\n",
      "90        1\n",
      "158       1\n",
      "61        1\n",
      "25        1\n",
      "108       1\n",
      "24        1\n",
      "Name: helpful_votes, dtype: int64\n"
     ]
    }
   ],
   "source": [
    "# Let's see how many unique values there are in 'helpful votes'\n",
    "print(df['helpful_votes'].unique())\n",
    "# Let's also see how many of each unique value there are in 'helpful votes'\n",
    "vc=df['helpful_votes'].value_counts()\n",
    "print(vc)"
   ]
  },
  {
   "cell_type": "code",
   "execution_count": 9,
   "metadata": {},
   "outputs": [
    {
     "name": "stdout",
     "output_type": "stream",
     "text": [
      "5    5424\n",
      "4    1967\n",
      "1    1057\n",
      "3    1009\n",
      "2     543\n",
      "Name: rating, dtype: int64\n",
      "2     543\n",
      "3    1009\n",
      "1    1057\n",
      "4    1967\n",
      "5    5424\n",
      "Name: rating, dtype: int64\n"
     ]
    }
   ],
   "source": [
    "# It is also important to ensure class imbalance doesn't occur\n",
    "# Let's see how many of each type of review there is\n",
    "vcRating= df['rating'].value_counts()\n",
    "print(vcRating)\n",
    "# Let's sort it from lowest to highest so that it is clearer which rating has lower reviews\n",
    "print (vcRating.sort_values())"
   ]
  },
  {
   "cell_type": "markdown",
   "metadata": {},
   "source": [
    "5 is overrepresented in the ratings data and 2 is slightly underrepresented.\n",
    "Let's inspect the other columns"
   ]
  },
  {
   "cell_type": "code",
   "execution_count": 10,
   "metadata": {},
   "outputs": [
    {
     "name": "stdout",
     "output_type": "stream",
     "text": [
      "review    10000\n",
      "Name: type, dtype: int64\n",
      "Desktop    7352\n",
      "Mobile     2648\n",
      "Name: published_platform, dtype: int64\n"
     ]
    }
   ],
   "source": [
    "vcType= df['type'].value_counts()\n",
    "vcPlatform= df['published_platform'].value_counts()\n",
    "print (vcType)\n",
    "print (vcPlatform)"
   ]
  },
  {
   "cell_type": "markdown",
   "metadata": {},
   "source": [
    "There is only one unique value in the column type- that is 'review'\n",
    "Therefore, this column should be dropped when creating the model\n",
    "There are more desktop reviews than mobile reviews. However, since this is type 'object'- I can't measure correlation."
   ]
  },
  {
   "cell_type": "markdown",
   "metadata": {},
   "source": [
    "Correlation between device type and the rating label can be performed with one-hot encoding. "
   ]
  },
  {
   "cell_type": "code",
   "execution_count": 11,
   "metadata": {},
   "outputs": [
    {
     "data": {
      "text/html": [
       "<div>\n",
       "<style scoped>\n",
       "    .dataframe tbody tr th:only-of-type {\n",
       "        vertical-align: middle;\n",
       "    }\n",
       "\n",
       "    .dataframe tbody tr th {\n",
       "        vertical-align: top;\n",
       "    }\n",
       "\n",
       "    .dataframe thead th {\n",
       "        text-align: right;\n",
       "    }\n",
       "</style>\n",
       "<table border=\"1\" class=\"dataframe\">\n",
       "  <thead>\n",
       "    <tr style=\"text-align: right;\">\n",
       "      <th></th>\n",
       "      <th>platform__Desktop</th>\n",
       "      <th>platform__Mobile</th>\n",
       "    </tr>\n",
       "  </thead>\n",
       "  <tbody>\n",
       "    <tr>\n",
       "      <th>0</th>\n",
       "      <td>1</td>\n",
       "      <td>0</td>\n",
       "    </tr>\n",
       "    <tr>\n",
       "      <th>1</th>\n",
       "      <td>1</td>\n",
       "      <td>0</td>\n",
       "    </tr>\n",
       "    <tr>\n",
       "      <th>2</th>\n",
       "      <td>1</td>\n",
       "      <td>0</td>\n",
       "    </tr>\n",
       "    <tr>\n",
       "      <th>3</th>\n",
       "      <td>1</td>\n",
       "      <td>0</td>\n",
       "    </tr>\n",
       "    <tr>\n",
       "      <th>4</th>\n",
       "      <td>1</td>\n",
       "      <td>0</td>\n",
       "    </tr>\n",
       "    <tr>\n",
       "      <th>...</th>\n",
       "      <td>...</td>\n",
       "      <td>...</td>\n",
       "    </tr>\n",
       "    <tr>\n",
       "      <th>9995</th>\n",
       "      <td>1</td>\n",
       "      <td>0</td>\n",
       "    </tr>\n",
       "    <tr>\n",
       "      <th>9996</th>\n",
       "      <td>0</td>\n",
       "      <td>1</td>\n",
       "    </tr>\n",
       "    <tr>\n",
       "      <th>9997</th>\n",
       "      <td>1</td>\n",
       "      <td>0</td>\n",
       "    </tr>\n",
       "    <tr>\n",
       "      <th>9998</th>\n",
       "      <td>1</td>\n",
       "      <td>0</td>\n",
       "    </tr>\n",
       "    <tr>\n",
       "      <th>9999</th>\n",
       "      <td>1</td>\n",
       "      <td>0</td>\n",
       "    </tr>\n",
       "  </tbody>\n",
       "</table>\n",
       "<p>10000 rows × 2 columns</p>\n",
       "</div>"
      ],
      "text/plain": [
       "      platform__Desktop  platform__Mobile\n",
       "0                     1                 0\n",
       "1                     1                 0\n",
       "2                     1                 0\n",
       "3                     1                 0\n",
       "4                     1                 0\n",
       "...                 ...               ...\n",
       "9995                  1                 0\n",
       "9996                  0                 1\n",
       "9997                  1                 0\n",
       "9998                  1                 0\n",
       "9999                  1                 0\n",
       "\n",
       "[10000 rows x 2 columns]"
      ]
     },
     "execution_count": 11,
     "metadata": {},
     "output_type": "execute_result"
    }
   ],
   "source": [
    "df_platform= pd.get_dummies(df['published_platform'], prefix= 'platform_')\n",
    "df_platform"
   ]
  },
  {
   "cell_type": "code",
   "execution_count": 12,
   "metadata": {},
   "outputs": [
    {
     "data": {
      "text/html": [
       "<div>\n",
       "<style scoped>\n",
       "    .dataframe tbody tr th:only-of-type {\n",
       "        vertical-align: middle;\n",
       "    }\n",
       "\n",
       "    .dataframe tbody tr th {\n",
       "        vertical-align: top;\n",
       "    }\n",
       "\n",
       "    .dataframe thead th {\n",
       "        text-align: right;\n",
       "    }\n",
       "</style>\n",
       "<table border=\"1\" class=\"dataframe\">\n",
       "  <thead>\n",
       "    <tr style=\"text-align: right;\">\n",
       "      <th></th>\n",
       "      <th>published_date</th>\n",
       "      <th>rating</th>\n",
       "      <th>type</th>\n",
       "      <th>text</th>\n",
       "      <th>title</th>\n",
       "      <th>helpful_votes</th>\n",
       "      <th>platform__Desktop</th>\n",
       "      <th>platform__Mobile</th>\n",
       "    </tr>\n",
       "  </thead>\n",
       "  <tbody>\n",
       "    <tr>\n",
       "      <th>0</th>\n",
       "      <td>2024-03-12T14:41:14-04:00</td>\n",
       "      <td>3</td>\n",
       "      <td>review</td>\n",
       "      <td>We used this airline to go from Singapore to L...</td>\n",
       "      <td>Ok</td>\n",
       "      <td>0</td>\n",
       "      <td>1</td>\n",
       "      <td>0</td>\n",
       "    </tr>\n",
       "    <tr>\n",
       "      <th>1</th>\n",
       "      <td>2024-03-11T19:39:13-04:00</td>\n",
       "      <td>5</td>\n",
       "      <td>review</td>\n",
       "      <td>The service on Singapore Airlines Suites Class...</td>\n",
       "      <td>The service in Suites Class makes one feel lik...</td>\n",
       "      <td>0</td>\n",
       "      <td>1</td>\n",
       "      <td>0</td>\n",
       "    </tr>\n",
       "    <tr>\n",
       "      <th>2</th>\n",
       "      <td>2024-03-11T12:20:23-04:00</td>\n",
       "      <td>1</td>\n",
       "      <td>review</td>\n",
       "      <td>Booked, paid and received email confirmation f...</td>\n",
       "      <td>Don’t give them your money</td>\n",
       "      <td>0</td>\n",
       "      <td>1</td>\n",
       "      <td>0</td>\n",
       "    </tr>\n",
       "    <tr>\n",
       "      <th>3</th>\n",
       "      <td>2024-03-11T07:12:27-04:00</td>\n",
       "      <td>5</td>\n",
       "      <td>review</td>\n",
       "      <td>Best airline in the world, seats, food, servic...</td>\n",
       "      <td>Best Airline in the World</td>\n",
       "      <td>0</td>\n",
       "      <td>1</td>\n",
       "      <td>0</td>\n",
       "    </tr>\n",
       "    <tr>\n",
       "      <th>4</th>\n",
       "      <td>2024-03-10T05:34:18-04:00</td>\n",
       "      <td>2</td>\n",
       "      <td>review</td>\n",
       "      <td>Premium Economy Seating on Singapore Airlines ...</td>\n",
       "      <td>Premium Economy Seating on Singapore Airlines ...</td>\n",
       "      <td>0</td>\n",
       "      <td>1</td>\n",
       "      <td>0</td>\n",
       "    </tr>\n",
       "    <tr>\n",
       "      <th>5</th>\n",
       "      <td>2024-03-10T01:16:48-05:00</td>\n",
       "      <td>1</td>\n",
       "      <td>review</td>\n",
       "      <td>We booked our flights a full 9 months in advan...</td>\n",
       "      <td>Impossible to get a promised refund</td>\n",
       "      <td>0</td>\n",
       "      <td>1</td>\n",
       "      <td>0</td>\n",
       "    </tr>\n",
       "    <tr>\n",
       "      <th>6</th>\n",
       "      <td>2024-03-10T00:54:43-05:00</td>\n",
       "      <td>5</td>\n",
       "      <td>review</td>\n",
       "      <td>This was a fascinating experience. As I sat in...</td>\n",
       "      <td>WOAH. FLY WITH SQ</td>\n",
       "      <td>0</td>\n",
       "      <td>1</td>\n",
       "      <td>0</td>\n",
       "    </tr>\n",
       "    <tr>\n",
       "      <th>7</th>\n",
       "      <td>2024-03-09T17:45:56-05:00</td>\n",
       "      <td>1</td>\n",
       "      <td>review</td>\n",
       "      <td>Very bad expeirence for flight check in at bai...</td>\n",
       "      <td>Long Q to check in</td>\n",
       "      <td>0</td>\n",
       "      <td>1</td>\n",
       "      <td>0</td>\n",
       "    </tr>\n",
       "    <tr>\n",
       "      <th>8</th>\n",
       "      <td>2024-03-08T23:10:41-05:00</td>\n",
       "      <td>1</td>\n",
       "      <td>review</td>\n",
       "      <td>Respected Faculty, I am Bincy, writing this  t...</td>\n",
       "      <td>Very bad, disappointed</td>\n",
       "      <td>0</td>\n",
       "      <td>1</td>\n",
       "      <td>0</td>\n",
       "    </tr>\n",
       "    <tr>\n",
       "      <th>9</th>\n",
       "      <td>2024-03-08T19:18:57-05:00</td>\n",
       "      <td>1</td>\n",
       "      <td>review</td>\n",
       "      <td>I would rate Singapore airlines the worse I ha...</td>\n",
       "      <td>Give Singapore airlines a miss.</td>\n",
       "      <td>1</td>\n",
       "      <td>1</td>\n",
       "      <td>0</td>\n",
       "    </tr>\n",
       "  </tbody>\n",
       "</table>\n",
       "</div>"
      ],
      "text/plain": [
       "              published_date  rating    type  \\\n",
       "0  2024-03-12T14:41:14-04:00       3  review   \n",
       "1  2024-03-11T19:39:13-04:00       5  review   \n",
       "2  2024-03-11T12:20:23-04:00       1  review   \n",
       "3  2024-03-11T07:12:27-04:00       5  review   \n",
       "4  2024-03-10T05:34:18-04:00       2  review   \n",
       "5  2024-03-10T01:16:48-05:00       1  review   \n",
       "6  2024-03-10T00:54:43-05:00       5  review   \n",
       "7  2024-03-09T17:45:56-05:00       1  review   \n",
       "8  2024-03-08T23:10:41-05:00       1  review   \n",
       "9  2024-03-08T19:18:57-05:00       1  review   \n",
       "\n",
       "                                                text  \\\n",
       "0  We used this airline to go from Singapore to L...   \n",
       "1  The service on Singapore Airlines Suites Class...   \n",
       "2  Booked, paid and received email confirmation f...   \n",
       "3  Best airline in the world, seats, food, servic...   \n",
       "4  Premium Economy Seating on Singapore Airlines ...   \n",
       "5  We booked our flights a full 9 months in advan...   \n",
       "6  This was a fascinating experience. As I sat in...   \n",
       "7  Very bad expeirence for flight check in at bai...   \n",
       "8  Respected Faculty, I am Bincy, writing this  t...   \n",
       "9  I would rate Singapore airlines the worse I ha...   \n",
       "\n",
       "                                               title  helpful_votes  \\\n",
       "0                                                 Ok              0   \n",
       "1  The service in Suites Class makes one feel lik...              0   \n",
       "2                         Don’t give them your money              0   \n",
       "3                          Best Airline in the World              0   \n",
       "4  Premium Economy Seating on Singapore Airlines ...              0   \n",
       "5                Impossible to get a promised refund              0   \n",
       "6                                  WOAH. FLY WITH SQ              0   \n",
       "7                                 Long Q to check in              0   \n",
       "8                             Very bad, disappointed              0   \n",
       "9                    Give Singapore airlines a miss.              1   \n",
       "\n",
       "   platform__Desktop  platform__Mobile  \n",
       "0                  1                 0  \n",
       "1                  1                 0  \n",
       "2                  1                 0  \n",
       "3                  1                 0  \n",
       "4                  1                 0  \n",
       "5                  1                 0  \n",
       "6                  1                 0  \n",
       "7                  1                 0  \n",
       "8                  1                 0  \n",
       "9                  1                 0  "
      ]
     },
     "execution_count": 12,
     "metadata": {},
     "output_type": "execute_result"
    }
   ],
   "source": [
    "# Let's add this to the main dataframe using the join function\n",
    "df= df.join(df_platform)\n",
    "# Remove the orignal published platform column from the dataframe\n",
    "df.drop(columns='published_platform',inplace=True)\n",
    "df.head(10)"
   ]
  },
  {
   "cell_type": "code",
   "execution_count": 13,
   "metadata": {},
   "outputs": [
    {
     "data": {
      "text/html": [
       "<div>\n",
       "<style scoped>\n",
       "    .dataframe tbody tr th:only-of-type {\n",
       "        vertical-align: middle;\n",
       "    }\n",
       "\n",
       "    .dataframe tbody tr th {\n",
       "        vertical-align: top;\n",
       "    }\n",
       "\n",
       "    .dataframe thead th {\n",
       "        text-align: right;\n",
       "    }\n",
       "</style>\n",
       "<table border=\"1\" class=\"dataframe\">\n",
       "  <thead>\n",
       "    <tr style=\"text-align: right;\">\n",
       "      <th></th>\n",
       "      <th>platform__Desktop</th>\n",
       "      <th>platform__Mobile</th>\n",
       "      <th>rating</th>\n",
       "    </tr>\n",
       "  </thead>\n",
       "  <tbody>\n",
       "    <tr>\n",
       "      <th>platform__Desktop</th>\n",
       "      <td>1.000000</td>\n",
       "      <td>-1.000000</td>\n",
       "      <td>-0.064015</td>\n",
       "    </tr>\n",
       "    <tr>\n",
       "      <th>platform__Mobile</th>\n",
       "      <td>-1.000000</td>\n",
       "      <td>1.000000</td>\n",
       "      <td>0.064015</td>\n",
       "    </tr>\n",
       "    <tr>\n",
       "      <th>rating</th>\n",
       "      <td>-0.064015</td>\n",
       "      <td>0.064015</td>\n",
       "      <td>1.000000</td>\n",
       "    </tr>\n",
       "  </tbody>\n",
       "</table>\n",
       "</div>"
      ],
      "text/plain": [
       "                   platform__Desktop  platform__Mobile    rating\n",
       "platform__Desktop           1.000000         -1.000000 -0.064015\n",
       "platform__Mobile           -1.000000          1.000000  0.064015\n",
       "rating                     -0.064015          0.064015  1.000000"
      ]
     },
     "execution_count": 13,
     "metadata": {},
     "output_type": "execute_result"
    }
   ],
   "source": [
    "# Now, let's see the correlation between the device type and the rating\n",
    "columns_of_interest = ['platform__Desktop', 'platform__Mobile', 'rating']\n",
    "correlation_matrix = df[columns_of_interest].corr()\n",
    "correlation_matrix"
   ]
  },
  {
   "cell_type": "markdown",
   "metadata": {},
   "source": [
    "There is a very low negative linear correlation between desktop and rating. There is a very low positive linear correlation between mobile and rating."
   ]
  },
  {
   "cell_type": "markdown",
   "metadata": {},
   "source": [
    "## Part 4: Define Your Project Plan\n",
    "\n",
    "Now that you understand your data, in the markdown cell below, define your plan to implement the remaining phases of the machine learning life cycle (data preparation, modeling, evaluation) to solve your ML problem. Answer the following questions:\n",
    "\n",
    "* Do you have a new feature list? If so, what are the features that you chose to keep and remove after inspecting the data? \n",
    "* Explain different data preparation techniques that you will use to prepare your data for modeling.\n",
    "* What is your model (or models)?\n",
    "* Describe your plan to train your model, analyze its performance and then improve the model. That is, describe your model building, validation and selection plan to produce a model that generalizes well to new data. "
   ]
  },
  {
   "cell_type": "markdown",
   "metadata": {},
   "source": [
    "1. I am considering dropping the date and type columns. In the type column, there is only one unique value 'review' and hence it generates no predictive value. Although there are low linear correlations between certain features and the label, there is a chance that there is a non-linear correlation that can be found and hence it does not automatically exclude it from the list.\n",
    "2. One-hot encoding was conducted in part 3. It is also important to reduce class imbalance to reduce bias in the data and hence this will be an important step in the data preparation process. Text features will be vectorized using TF-IDF\n",
    "3. I plan on utilizing three models: Logistic Regression, Random Forest Decision Trees, and a Neural Network.\n",
    "4. For each model, I will ensure to tune hyperparameters. For Random Forest, I plan on utilizing GridSearch CV to do so whereas for logistic regression I will measure accuracy rates under different parameters for C to find the best C value. I will evaluate the models' performance using different metrics such as log loss, accuracy, RMSE, and R squared scores. Performance will be further analyzed with confusion matrices and graphs, for instance log loss test performance for logistic regression and training and validation loss for the neural network."
   ]
  },
  {
   "cell_type": "markdown",
   "metadata": {},
   "source": [
    "## Part 5: Implement Your Project Plan\n",
    "\n",
    "<b>Task:</b> In the code cell below, import additional packages that you have used in this course that you will need to implement your project plan."
   ]
  },
  {
   "cell_type": "code",
   "execution_count": 14,
   "metadata": {},
   "outputs": [
    {
     "name": "stderr",
     "output_type": "stream",
     "text": [
      "2024-07-31 20:30:20.911248: W tensorflow/stream_executor/platform/default/dso_loader.cc:64] Could not load dynamic library 'libcudart.so.11.0'; dlerror: libcudart.so.11.0: cannot open shared object file: No such file or directory\n",
      "2024-07-31 20:30:20.911274: I tensorflow/stream_executor/cuda/cudart_stub.cc:29] Ignore above cudart dlerror if you do not have a GPU set up on your machine.\n"
     ]
    }
   ],
   "source": [
    "from sklearn.feature_extraction.text import TfidfVectorizer\n",
    "from sklearn.model_selection import train_test_split\n",
    "import tensorflow.keras as keras\n",
    "import time\n",
    "from sklearn.utils import resample\n",
    "import scipy.sparse as scipy\n",
    "from sklearn.linear_model import LogisticRegression\n",
    "from sklearn.metrics import log_loss\n",
    "from sklearn.metrics import accuracy_score\n",
    "from sklearn.ensemble import RandomForestClassifier\n",
    "from sklearn.model_selection import train_test_split\n",
    "from sklearn.metrics import roc_curve, auc\n",
    "from sklearn.model_selection import GridSearchCV\n",
    "from sklearn.metrics import mean_squared_error, r2_score\n",
    "from keras.layers import Input, Dense, concatenate\n",
    "from keras.models import Model\n",
    "import tensorflow as tf\n",
    "from sklearn.metrics import confusion_matrix"
   ]
  },
  {
   "cell_type": "markdown",
   "metadata": {},
   "source": [
    "<b>Task:</b> Use the rest of this notebook to carry out your project plan. \n",
    "\n",
    "You will:\n",
    "\n",
    "1. Prepare your data for your model.\n",
    "2. Fit your model to the training data and evaluate your model.\n",
    "3. Improve your model's performance by performing model selection and/or feature selection techniques to find best model for your problem.\n",
    "\n",
    "Add code cells below and populate the notebook with commentary, code, analyses, results, and figures as you see fit. "
   ]
  },
  {
   "cell_type": "markdown",
   "metadata": {},
   "source": [
    "First, I want to make it so that the majority class is downsampled/undersampled and the minoirty class is oversampled while the remaining classes are oversampled/undersampled. I want to make it so that there is an equal amount of each rating. I read up online how to do this, source: https://medium.com/@tam.tamanna18/handling-imbalanced-datasets-in-python-methods-and-procedures-7376f99794de#:~:text=Libraries%20like%20Pandas%20are%20essential%20for%20this.&text=The%20most%20common%20approaches%20for,(decreasing%20majority%20class%20samples)."
   ]
  },
  {
   "cell_type": "code",
   "execution_count": 15,
   "metadata": {},
   "outputs": [
    {
     "name": "stdout",
     "output_type": "stream",
     "text": [
      "5    1967\n",
      "4    1967\n",
      "3    1967\n",
      "2    1967\n",
      "1    1967\n",
      "Name: rating, dtype: int64\n"
     ]
    },
    {
     "data": {
      "text/html": [
       "<div>\n",
       "<style scoped>\n",
       "    .dataframe tbody tr th:only-of-type {\n",
       "        vertical-align: middle;\n",
       "    }\n",
       "\n",
       "    .dataframe tbody tr th {\n",
       "        vertical-align: top;\n",
       "    }\n",
       "\n",
       "    .dataframe thead th {\n",
       "        text-align: right;\n",
       "    }\n",
       "</style>\n",
       "<table border=\"1\" class=\"dataframe\">\n",
       "  <thead>\n",
       "    <tr style=\"text-align: right;\">\n",
       "      <th></th>\n",
       "      <th>published_date</th>\n",
       "      <th>rating</th>\n",
       "      <th>type</th>\n",
       "      <th>text</th>\n",
       "      <th>title</th>\n",
       "      <th>helpful_votes</th>\n",
       "      <th>platform__Desktop</th>\n",
       "      <th>platform__Mobile</th>\n",
       "    </tr>\n",
       "  </thead>\n",
       "  <tbody>\n",
       "    <tr>\n",
       "      <th>9720</th>\n",
       "      <td>2018-08-28T21:37:18-04:00</td>\n",
       "      <td>5</td>\n",
       "      <td>review</td>\n",
       "      <td>Kudos to the pilot and first officer teams for...</td>\n",
       "      <td>SQ326 - 10 August 2018 - Pleasant and smooth ride</td>\n",
       "      <td>1</td>\n",
       "      <td>0</td>\n",
       "      <td>1</td>\n",
       "    </tr>\n",
       "    <tr>\n",
       "      <th>9600</th>\n",
       "      <td>2018-09-08T17:39:04-04:00</td>\n",
       "      <td>5</td>\n",
       "      <td>review</td>\n",
       "      <td>I flew SIA after some years, and looked forwar...</td>\n",
       "      <td>Still the best.....</td>\n",
       "      <td>0</td>\n",
       "      <td>1</td>\n",
       "      <td>0</td>\n",
       "    </tr>\n",
       "    <tr>\n",
       "      <th>6220</th>\n",
       "      <td>2019-03-24T05:49:51-04:00</td>\n",
       "      <td>5</td>\n",
       "      <td>review</td>\n",
       "      <td>Singapore Airlines have always been a personal...</td>\n",
       "      <td>Indeed a great way to fly</td>\n",
       "      <td>2</td>\n",
       "      <td>0</td>\n",
       "      <td>1</td>\n",
       "    </tr>\n",
       "    <tr>\n",
       "      <th>7620</th>\n",
       "      <td>2018-12-18T03:59:57-05:00</td>\n",
       "      <td>5</td>\n",
       "      <td>review</td>\n",
       "      <td>One of the best services on economy.It was a t...</td>\n",
       "      <td>Long haul flight</td>\n",
       "      <td>0</td>\n",
       "      <td>1</td>\n",
       "      <td>0</td>\n",
       "    </tr>\n",
       "    <tr>\n",
       "      <th>3497</th>\n",
       "      <td>2019-09-19T23:16:13-04:00</td>\n",
       "      <td>5</td>\n",
       "      <td>review</td>\n",
       "      <td>It was very good trip to use singapore airline...</td>\n",
       "      <td>Excellent service</td>\n",
       "      <td>1</td>\n",
       "      <td>1</td>\n",
       "      <td>0</td>\n",
       "    </tr>\n",
       "    <tr>\n",
       "      <th>8400</th>\n",
       "      <td>2018-11-04T21:09:17-05:00</td>\n",
       "      <td>5</td>\n",
       "      <td>review</td>\n",
       "      <td>The Flight to LAX via Narita is one of the bes...</td>\n",
       "      <td>Simply the best in long distance travel</td>\n",
       "      <td>0</td>\n",
       "      <td>1</td>\n",
       "      <td>0</td>\n",
       "    </tr>\n",
       "    <tr>\n",
       "      <th>7127</th>\n",
       "      <td>2019-01-19T08:05:01-05:00</td>\n",
       "      <td>5</td>\n",
       "      <td>review</td>\n",
       "      <td>smooth flight from singapore to dusseldorf; ti...</td>\n",
       "      <td>smooth flight</td>\n",
       "      <td>2</td>\n",
       "      <td>1</td>\n",
       "      <td>0</td>\n",
       "    </tr>\n",
       "    <tr>\n",
       "      <th>4516</th>\n",
       "      <td>2019-07-10T17:00:05-04:00</td>\n",
       "      <td>5</td>\n",
       "      <td>review</td>\n",
       "      <td>Had the pleasure of flying with Singapore Airl...</td>\n",
       "      <td>Most helpful crew</td>\n",
       "      <td>2</td>\n",
       "      <td>1</td>\n",
       "      <td>0</td>\n",
       "    </tr>\n",
       "    <tr>\n",
       "      <th>9120</th>\n",
       "      <td>2018-09-18T19:07:34-04:00</td>\n",
       "      <td>5</td>\n",
       "      <td>review</td>\n",
       "      <td>From check-in to inflight, SIA crews are very ...</td>\n",
       "      <td>Truly A Great Way to Fly</td>\n",
       "      <td>0</td>\n",
       "      <td>1</td>\n",
       "      <td>0</td>\n",
       "    </tr>\n",
       "    <tr>\n",
       "      <th>5669</th>\n",
       "      <td>2019-05-01T14:16:48-04:00</td>\n",
       "      <td>5</td>\n",
       "      <td>review</td>\n",
       "      <td>I have flown on Singapore Airlines for over 20...</td>\n",
       "      <td>Singapore Airlines SIA</td>\n",
       "      <td>0</td>\n",
       "      <td>1</td>\n",
       "      <td>0</td>\n",
       "    </tr>\n",
       "    <tr>\n",
       "      <th>7674</th>\n",
       "      <td>2018-12-17T20:56:44-05:00</td>\n",
       "      <td>5</td>\n",
       "      <td>review</td>\n",
       "      <td>I travel every year to my family in Sydney wit...</td>\n",
       "      <td>Excellent service on these flights</td>\n",
       "      <td>0</td>\n",
       "      <td>1</td>\n",
       "      <td>0</td>\n",
       "    </tr>\n",
       "    <tr>\n",
       "      <th>2945</th>\n",
       "      <td>2019-11-12T00:58:23-05:00</td>\n",
       "      <td>5</td>\n",
       "      <td>review</td>\n",
       "      <td>Generally, living in Dubai, I tend to fly Emir...</td>\n",
       "      <td>Absolutely Outstanding Service &amp; Quality</td>\n",
       "      <td>2</td>\n",
       "      <td>1</td>\n",
       "      <td>0</td>\n",
       "    </tr>\n",
       "    <tr>\n",
       "      <th>325</th>\n",
       "      <td>2023-06-21T17:20:23-04:00</td>\n",
       "      <td>5</td>\n",
       "      <td>review</td>\n",
       "      <td>This review is for a return journey.  We flew ...</td>\n",
       "      <td>Highest standards</td>\n",
       "      <td>0</td>\n",
       "      <td>1</td>\n",
       "      <td>0</td>\n",
       "    </tr>\n",
       "    <tr>\n",
       "      <th>1621</th>\n",
       "      <td>2020-03-10T07:06:51-04:00</td>\n",
       "      <td>5</td>\n",
       "      <td>review</td>\n",
       "      <td>Upon taking your seat the flight attendant wou...</td>\n",
       "      <td>great service</td>\n",
       "      <td>2</td>\n",
       "      <td>1</td>\n",
       "      <td>0</td>\n",
       "    </tr>\n",
       "    <tr>\n",
       "      <th>8807</th>\n",
       "      <td>2018-10-04T19:32:32-04:00</td>\n",
       "      <td>5</td>\n",
       "      <td>review</td>\n",
       "      <td>Always a good option for longer flights. Seats...</td>\n",
       "      <td>Comfy seats, great service for  flight Austral...</td>\n",
       "      <td>0</td>\n",
       "      <td>1</td>\n",
       "      <td>0</td>\n",
       "    </tr>\n",
       "    <tr>\n",
       "      <th>8225</th>\n",
       "      <td>2018-11-15T18:07:26-05:00</td>\n",
       "      <td>5</td>\n",
       "      <td>review</td>\n",
       "      <td>Very comfortable flight. Food was good, hostes...</td>\n",
       "      <td>Singapore to Tokyo</td>\n",
       "      <td>2</td>\n",
       "      <td>1</td>\n",
       "      <td>0</td>\n",
       "    </tr>\n",
       "    <tr>\n",
       "      <th>8164</th>\n",
       "      <td>2018-11-20T16:22:27-05:00</td>\n",
       "      <td>5</td>\n",
       "      <td>review</td>\n",
       "      <td>I was taking a red eye flight from Seoul back ...</td>\n",
       "      <td>Pleasant Surprise</td>\n",
       "      <td>0</td>\n",
       "      <td>1</td>\n",
       "      <td>0</td>\n",
       "    </tr>\n",
       "    <tr>\n",
       "      <th>1681</th>\n",
       "      <td>2020-03-05T12:11:53-05:00</td>\n",
       "      <td>5</td>\n",
       "      <td>review</td>\n",
       "      <td>First I must tell you that I was traveling wit...</td>\n",
       "      <td>A caring and gracious crew</td>\n",
       "      <td>2</td>\n",
       "      <td>1</td>\n",
       "      <td>0</td>\n",
       "    </tr>\n",
       "    <tr>\n",
       "      <th>1335</th>\n",
       "      <td>2020-06-16T21:20:36-04:00</td>\n",
       "      <td>5</td>\n",
       "      <td>review</td>\n",
       "      <td>Just want to give kudos to Singapore airlines ...</td>\n",
       "      <td>Well done on refund</td>\n",
       "      <td>2</td>\n",
       "      <td>1</td>\n",
       "      <td>0</td>\n",
       "    </tr>\n",
       "    <tr>\n",
       "      <th>86</th>\n",
       "      <td>2024-01-07T12:31:20-05:00</td>\n",
       "      <td>5</td>\n",
       "      <td>review</td>\n",
       "      <td>Singapore's status as one of the world's great...</td>\n",
       "      <td>A world class experience in the air</td>\n",
       "      <td>0</td>\n",
       "      <td>1</td>\n",
       "      <td>0</td>\n",
       "    </tr>\n",
       "    <tr>\n",
       "      <th>5391</th>\n",
       "      <td>2019-05-21T16:26:51-04:00</td>\n",
       "      <td>5</td>\n",
       "      <td>review</td>\n",
       "      <td>comfortable seats, great service (even though ...</td>\n",
       "      <td>SQ974 to BKK</td>\n",
       "      <td>0</td>\n",
       "      <td>1</td>\n",
       "      <td>0</td>\n",
       "    </tr>\n",
       "    <tr>\n",
       "      <th>4185</th>\n",
       "      <td>2019-08-06T17:28:44-04:00</td>\n",
       "      <td>5</td>\n",
       "      <td>review</td>\n",
       "      <td>After spending time away from home the only th...</td>\n",
       "      <td>When only the best will do</td>\n",
       "      <td>3</td>\n",
       "      <td>1</td>\n",
       "      <td>0</td>\n",
       "    </tr>\n",
       "    <tr>\n",
       "      <th>3613</th>\n",
       "      <td>2019-09-12T00:03:49-04:00</td>\n",
       "      <td>5</td>\n",
       "      <td>review</td>\n",
       "      <td>Great airline for a long flight. We flew from ...</td>\n",
       "      <td>Great long haul flight</td>\n",
       "      <td>1</td>\n",
       "      <td>0</td>\n",
       "      <td>1</td>\n",
       "    </tr>\n",
       "    <tr>\n",
       "      <th>1913</th>\n",
       "      <td>2020-02-04T09:42:29-05:00</td>\n",
       "      <td>5</td>\n",
       "      <td>review</td>\n",
       "      <td>Our first time with SQ fir 10 years and their ...</td>\n",
       "      <td>Absolutely first class flight, no faults whats...</td>\n",
       "      <td>1</td>\n",
       "      <td>1</td>\n",
       "      <td>0</td>\n",
       "    </tr>\n",
       "    <tr>\n",
       "      <th>7789</th>\n",
       "      <td>2018-12-17T13:11:03-05:00</td>\n",
       "      <td>5</td>\n",
       "      <td>review</td>\n",
       "      <td>Have recently flown to Singapore and then on t...</td>\n",
       "      <td>Brisbane to Singapore and return</td>\n",
       "      <td>0</td>\n",
       "      <td>1</td>\n",
       "      <td>0</td>\n",
       "    </tr>\n",
       "    <tr>\n",
       "      <th>9887</th>\n",
       "      <td>2018-08-15T04:17:19-04:00</td>\n",
       "      <td>5</td>\n",
       "      <td>review</td>\n",
       "      <td>Premium economy was a great pleasure. Very goo...</td>\n",
       "      <td>great flight with Singapore Airlines</td>\n",
       "      <td>1</td>\n",
       "      <td>1</td>\n",
       "      <td>0</td>\n",
       "    </tr>\n",
       "    <tr>\n",
       "      <th>4673</th>\n",
       "      <td>2019-07-09T15:15:02-04:00</td>\n",
       "      <td>5</td>\n",
       "      <td>review</td>\n",
       "      <td>Singapore airlines are truly the best out ther...</td>\n",
       "      <td>Fantastic service</td>\n",
       "      <td>1</td>\n",
       "      <td>0</td>\n",
       "      <td>1</td>\n",
       "    </tr>\n",
       "    <tr>\n",
       "      <th>2586</th>\n",
       "      <td>2019-12-09T10:50:27-05:00</td>\n",
       "      <td>5</td>\n",
       "      <td>review</td>\n",
       "      <td>This was our first time flying Singapore Airli...</td>\n",
       "      <td>Excellent Service as usual</td>\n",
       "      <td>2</td>\n",
       "      <td>1</td>\n",
       "      <td>0</td>\n",
       "    </tr>\n",
       "    <tr>\n",
       "      <th>6984</th>\n",
       "      <td>2019-02-01T10:20:24-05:00</td>\n",
       "      <td>5</td>\n",
       "      <td>review</td>\n",
       "      <td>Two long flights 10 hours London to Singapore ...</td>\n",
       "      <td>Smooth and comfortable</td>\n",
       "      <td>0</td>\n",
       "      <td>0</td>\n",
       "      <td>1</td>\n",
       "    </tr>\n",
       "    <tr>\n",
       "      <th>8766</th>\n",
       "      <td>2018-10-07T22:18:02-04:00</td>\n",
       "      <td>5</td>\n",
       "      <td>review</td>\n",
       "      <td>It was a treat to fly home to Singapore from N...</td>\n",
       "      <td>A great way to fly!</td>\n",
       "      <td>2</td>\n",
       "      <td>1</td>\n",
       "      <td>0</td>\n",
       "    </tr>\n",
       "  </tbody>\n",
       "</table>\n",
       "</div>"
      ],
      "text/plain": [
       "                 published_date  rating    type  \\\n",
       "9720  2018-08-28T21:37:18-04:00       5  review   \n",
       "9600  2018-09-08T17:39:04-04:00       5  review   \n",
       "6220  2019-03-24T05:49:51-04:00       5  review   \n",
       "7620  2018-12-18T03:59:57-05:00       5  review   \n",
       "3497  2019-09-19T23:16:13-04:00       5  review   \n",
       "8400  2018-11-04T21:09:17-05:00       5  review   \n",
       "7127  2019-01-19T08:05:01-05:00       5  review   \n",
       "4516  2019-07-10T17:00:05-04:00       5  review   \n",
       "9120  2018-09-18T19:07:34-04:00       5  review   \n",
       "5669  2019-05-01T14:16:48-04:00       5  review   \n",
       "7674  2018-12-17T20:56:44-05:00       5  review   \n",
       "2945  2019-11-12T00:58:23-05:00       5  review   \n",
       "325   2023-06-21T17:20:23-04:00       5  review   \n",
       "1621  2020-03-10T07:06:51-04:00       5  review   \n",
       "8807  2018-10-04T19:32:32-04:00       5  review   \n",
       "8225  2018-11-15T18:07:26-05:00       5  review   \n",
       "8164  2018-11-20T16:22:27-05:00       5  review   \n",
       "1681  2020-03-05T12:11:53-05:00       5  review   \n",
       "1335  2020-06-16T21:20:36-04:00       5  review   \n",
       "86    2024-01-07T12:31:20-05:00       5  review   \n",
       "5391  2019-05-21T16:26:51-04:00       5  review   \n",
       "4185  2019-08-06T17:28:44-04:00       5  review   \n",
       "3613  2019-09-12T00:03:49-04:00       5  review   \n",
       "1913  2020-02-04T09:42:29-05:00       5  review   \n",
       "7789  2018-12-17T13:11:03-05:00       5  review   \n",
       "9887  2018-08-15T04:17:19-04:00       5  review   \n",
       "4673  2019-07-09T15:15:02-04:00       5  review   \n",
       "2586  2019-12-09T10:50:27-05:00       5  review   \n",
       "6984  2019-02-01T10:20:24-05:00       5  review   \n",
       "8766  2018-10-07T22:18:02-04:00       5  review   \n",
       "\n",
       "                                                   text  \\\n",
       "9720  Kudos to the pilot and first officer teams for...   \n",
       "9600  I flew SIA after some years, and looked forwar...   \n",
       "6220  Singapore Airlines have always been a personal...   \n",
       "7620  One of the best services on economy.It was a t...   \n",
       "3497  It was very good trip to use singapore airline...   \n",
       "8400  The Flight to LAX via Narita is one of the bes...   \n",
       "7127  smooth flight from singapore to dusseldorf; ti...   \n",
       "4516  Had the pleasure of flying with Singapore Airl...   \n",
       "9120  From check-in to inflight, SIA crews are very ...   \n",
       "5669  I have flown on Singapore Airlines for over 20...   \n",
       "7674  I travel every year to my family in Sydney wit...   \n",
       "2945  Generally, living in Dubai, I tend to fly Emir...   \n",
       "325   This review is for a return journey.  We flew ...   \n",
       "1621  Upon taking your seat the flight attendant wou...   \n",
       "8807  Always a good option for longer flights. Seats...   \n",
       "8225  Very comfortable flight. Food was good, hostes...   \n",
       "8164  I was taking a red eye flight from Seoul back ...   \n",
       "1681  First I must tell you that I was traveling wit...   \n",
       "1335  Just want to give kudos to Singapore airlines ...   \n",
       "86    Singapore's status as one of the world's great...   \n",
       "5391  comfortable seats, great service (even though ...   \n",
       "4185  After spending time away from home the only th...   \n",
       "3613  Great airline for a long flight. We flew from ...   \n",
       "1913  Our first time with SQ fir 10 years and their ...   \n",
       "7789  Have recently flown to Singapore and then on t...   \n",
       "9887  Premium economy was a great pleasure. Very goo...   \n",
       "4673  Singapore airlines are truly the best out ther...   \n",
       "2586  This was our first time flying Singapore Airli...   \n",
       "6984  Two long flights 10 hours London to Singapore ...   \n",
       "8766  It was a treat to fly home to Singapore from N...   \n",
       "\n",
       "                                                  title  helpful_votes  \\\n",
       "9720  SQ326 - 10 August 2018 - Pleasant and smooth ride              1   \n",
       "9600                                Still the best.....              0   \n",
       "6220                          Indeed a great way to fly              2   \n",
       "7620                                   Long haul flight              0   \n",
       "3497                                  Excellent service              1   \n",
       "8400            Simply the best in long distance travel              0   \n",
       "7127                                      smooth flight              2   \n",
       "4516                                  Most helpful crew              2   \n",
       "9120                           Truly A Great Way to Fly              0   \n",
       "5669                             Singapore Airlines SIA              0   \n",
       "7674                 Excellent service on these flights              0   \n",
       "2945           Absolutely Outstanding Service & Quality              2   \n",
       "325                                   Highest standards              0   \n",
       "1621                                      great service              2   \n",
       "8807  Comfy seats, great service for  flight Austral...              0   \n",
       "8225                                 Singapore to Tokyo              2   \n",
       "8164                                  Pleasant Surprise              0   \n",
       "1681                         A caring and gracious crew              2   \n",
       "1335                                Well done on refund              2   \n",
       "86                  A world class experience in the air              0   \n",
       "5391                                       SQ974 to BKK              0   \n",
       "4185                         When only the best will do              3   \n",
       "3613                             Great long haul flight              1   \n",
       "1913  Absolutely first class flight, no faults whats...              1   \n",
       "7789                   Brisbane to Singapore and return              0   \n",
       "9887               great flight with Singapore Airlines              1   \n",
       "4673                                  Fantastic service              1   \n",
       "2586                         Excellent Service as usual              2   \n",
       "6984                             Smooth and comfortable              0   \n",
       "8766                                A great way to fly!              2   \n",
       "\n",
       "      platform__Desktop  platform__Mobile  \n",
       "9720                  0                 1  \n",
       "9600                  1                 0  \n",
       "6220                  0                 1  \n",
       "7620                  1                 0  \n",
       "3497                  1                 0  \n",
       "8400                  1                 0  \n",
       "7127                  1                 0  \n",
       "4516                  1                 0  \n",
       "9120                  1                 0  \n",
       "5669                  1                 0  \n",
       "7674                  1                 0  \n",
       "2945                  1                 0  \n",
       "325                   1                 0  \n",
       "1621                  1                 0  \n",
       "8807                  1                 0  \n",
       "8225                  1                 0  \n",
       "8164                  1                 0  \n",
       "1681                  1                 0  \n",
       "1335                  1                 0  \n",
       "86                    1                 0  \n",
       "5391                  1                 0  \n",
       "4185                  1                 0  \n",
       "3613                  0                 1  \n",
       "1913                  1                 0  \n",
       "7789                  1                 0  \n",
       "9887                  1                 0  \n",
       "4673                  0                 1  \n",
       "2586                  1                 0  \n",
       "6984                  0                 1  \n",
       "8766                  1                 0  "
      ]
     },
     "execution_count": 15,
     "metadata": {},
     "output_type": "execute_result"
    }
   ],
   "source": [
    "class_5 = df[df['rating'] == 5]\n",
    "class_4 = df[df['rating'] == 4]\n",
    "class_3 = df[df['rating'] == 3]\n",
    "class_2 = df[df['rating'] == 2]\n",
    "class_1 = df[df['rating'] == 1]\n",
    "\n",
    "target_size = len(class_4)\n",
    "\n",
    "# Downsample majority class (rating 5)\n",
    "class_5_downsampled = resample(class_5,\n",
    "                               replace=False,  \n",
    "                               n_samples=target_size,  \n",
    "                               random_state=42)  \n",
    "\n",
    "# Upsample minority class (rating 2)\n",
    "class_2_upsampled = resample(class_2,\n",
    "                             replace=True,  \n",
    "                             n_samples=target_size,  \n",
    "                             random_state=42)  \n",
    "\n",
    "# upsample  other minority classes to create balance\n",
    "class_1_upsampled = resample(class_1,\n",
    "                             replace=True,  \n",
    "                             n_samples=target_size,  \n",
    "                             random_state=42) \n",
    "\n",
    "class_3_upsampled = resample(class_3,\n",
    "                             replace=True,  \n",
    "                             n_samples=target_size,  \n",
    "                             random_state=42)  \n",
    "\n",
    "# Combine all classes back into a single dataframe named balanced data\n",
    "balanced_data = pd.concat([class_5_downsampled, class_4, class_3_upsampled, class_2_upsampled, class_1_upsampled])\n",
    "\n",
    "print(balanced_data['rating'].value_counts())\n",
    "# make df equal to the new dataframe created\n",
    "df= balanced_data\n",
    "df.head(30)"
   ]
  },
  {
   "cell_type": "markdown",
   "metadata": {},
   "source": [
    "The data is not shuffled, this can lead to issues during training especially since the whole dataset may not be used. To do this, I used the following sources: https://stackoverflow.com/questions/29576430/shuffle-dataframe-rows\n",
    "https://pandas.pydata.org/docs/reference/api/pandas.DataFrame.sample.html"
   ]
  },
  {
   "cell_type": "code",
   "execution_count": 16,
   "metadata": {},
   "outputs": [
    {
     "data": {
      "text/html": [
       "<div>\n",
       "<style scoped>\n",
       "    .dataframe tbody tr th:only-of-type {\n",
       "        vertical-align: middle;\n",
       "    }\n",
       "\n",
       "    .dataframe tbody tr th {\n",
       "        vertical-align: top;\n",
       "    }\n",
       "\n",
       "    .dataframe thead th {\n",
       "        text-align: right;\n",
       "    }\n",
       "</style>\n",
       "<table border=\"1\" class=\"dataframe\">\n",
       "  <thead>\n",
       "    <tr style=\"text-align: right;\">\n",
       "      <th></th>\n",
       "      <th>published_date</th>\n",
       "      <th>rating</th>\n",
       "      <th>type</th>\n",
       "      <th>text</th>\n",
       "      <th>title</th>\n",
       "      <th>helpful_votes</th>\n",
       "      <th>platform__Desktop</th>\n",
       "      <th>platform__Mobile</th>\n",
       "    </tr>\n",
       "  </thead>\n",
       "  <tbody>\n",
       "    <tr>\n",
       "      <th>0</th>\n",
       "      <td>2019-09-09T08:43:23-04:00</td>\n",
       "      <td>1</td>\n",
       "      <td>review</td>\n",
       "      <td>With a 5 hour stopover in Changi, I registered...</td>\n",
       "      <td>Very unsatisfactory journey</td>\n",
       "      <td>5</td>\n",
       "      <td>0</td>\n",
       "      <td>1</td>\n",
       "    </tr>\n",
       "    <tr>\n",
       "      <th>1</th>\n",
       "      <td>2022-05-05T14:49:42-04:00</td>\n",
       "      <td>1</td>\n",
       "      <td>review</td>\n",
       "      <td>I was on the phone with your KrisFlyer custome...</td>\n",
       "      <td>2.5 Hours On Hold with KrisFlyer Customer Service</td>\n",
       "      <td>0</td>\n",
       "      <td>1</td>\n",
       "      <td>0</td>\n",
       "    </tr>\n",
       "    <tr>\n",
       "      <th>2</th>\n",
       "      <td>2019-08-31T05:23:00-04:00</td>\n",
       "      <td>4</td>\n",
       "      <td>review</td>\n",
       "      <td>I always look forward to flying on Singapore A...</td>\n",
       "      <td>A trip of two halves</td>\n",
       "      <td>2</td>\n",
       "      <td>1</td>\n",
       "      <td>0</td>\n",
       "    </tr>\n",
       "    <tr>\n",
       "      <th>3</th>\n",
       "      <td>2018-12-05T09:25:29-05:00</td>\n",
       "      <td>2</td>\n",
       "      <td>review</td>\n",
       "      <td>We pay to go business on long haul so that we ...</td>\n",
       "      <td>Unsuitable business class beds</td>\n",
       "      <td>0</td>\n",
       "      <td>1</td>\n",
       "      <td>0</td>\n",
       "    </tr>\n",
       "    <tr>\n",
       "      <th>4</th>\n",
       "      <td>2019-04-08T00:23:48-04:00</td>\n",
       "      <td>5</td>\n",
       "      <td>review</td>\n",
       "      <td>it was amazing experience .. to fly for the fi...</td>\n",
       "      <td>one of the best airlines</td>\n",
       "      <td>4</td>\n",
       "      <td>1</td>\n",
       "      <td>0</td>\n",
       "    </tr>\n",
       "    <tr>\n",
       "      <th>5</th>\n",
       "      <td>2019-02-14T23:03:54-05:00</td>\n",
       "      <td>3</td>\n",
       "      <td>review</td>\n",
       "      <td>We were in premium economy.  From SYD to SIN, ...</td>\n",
       "      <td>Good one way; average on the way back</td>\n",
       "      <td>1</td>\n",
       "      <td>1</td>\n",
       "      <td>0</td>\n",
       "    </tr>\n",
       "    <tr>\n",
       "      <th>6</th>\n",
       "      <td>2022-07-10T21:48:04-04:00</td>\n",
       "      <td>2</td>\n",
       "      <td>review</td>\n",
       "      <td>My wife and I recently flew to and from Sydney...</td>\n",
       "      <td>Singapore Airlines Premium Economy - not worth...</td>\n",
       "      <td>4</td>\n",
       "      <td>1</td>\n",
       "      <td>0</td>\n",
       "    </tr>\n",
       "    <tr>\n",
       "      <th>7</th>\n",
       "      <td>2019-01-03T13:45:46-05:00</td>\n",
       "      <td>4</td>\n",
       "      <td>review</td>\n",
       "      <td>Aircraft is not much convenient. But their ser...</td>\n",
       "      <td>Friendly service</td>\n",
       "      <td>0</td>\n",
       "      <td>0</td>\n",
       "      <td>1</td>\n",
       "    </tr>\n",
       "    <tr>\n",
       "      <th>8</th>\n",
       "      <td>2019-05-05T02:07:41-04:00</td>\n",
       "      <td>1</td>\n",
       "      <td>review</td>\n",
       "      <td>I flew them from Singapore to Tokyo. First off...</td>\n",
       "      <td>Simply put, “Not the best”.</td>\n",
       "      <td>7</td>\n",
       "      <td>0</td>\n",
       "      <td>1</td>\n",
       "    </tr>\n",
       "    <tr>\n",
       "      <th>9</th>\n",
       "      <td>2020-02-13T20:21:01-05:00</td>\n",
       "      <td>2</td>\n",
       "      <td>review</td>\n",
       "      <td>Before reading this review please note that th...</td>\n",
       "      <td>Start and end your holiday on a low!</td>\n",
       "      <td>4</td>\n",
       "      <td>0</td>\n",
       "      <td>1</td>\n",
       "    </tr>\n",
       "  </tbody>\n",
       "</table>\n",
       "</div>"
      ],
      "text/plain": [
       "              published_date  rating    type  \\\n",
       "0  2019-09-09T08:43:23-04:00       1  review   \n",
       "1  2022-05-05T14:49:42-04:00       1  review   \n",
       "2  2019-08-31T05:23:00-04:00       4  review   \n",
       "3  2018-12-05T09:25:29-05:00       2  review   \n",
       "4  2019-04-08T00:23:48-04:00       5  review   \n",
       "5  2019-02-14T23:03:54-05:00       3  review   \n",
       "6  2022-07-10T21:48:04-04:00       2  review   \n",
       "7  2019-01-03T13:45:46-05:00       4  review   \n",
       "8  2019-05-05T02:07:41-04:00       1  review   \n",
       "9  2020-02-13T20:21:01-05:00       2  review   \n",
       "\n",
       "                                                text  \\\n",
       "0  With a 5 hour stopover in Changi, I registered...   \n",
       "1  I was on the phone with your KrisFlyer custome...   \n",
       "2  I always look forward to flying on Singapore A...   \n",
       "3  We pay to go business on long haul so that we ...   \n",
       "4  it was amazing experience .. to fly for the fi...   \n",
       "5  We were in premium economy.  From SYD to SIN, ...   \n",
       "6  My wife and I recently flew to and from Sydney...   \n",
       "7  Aircraft is not much convenient. But their ser...   \n",
       "8  I flew them from Singapore to Tokyo. First off...   \n",
       "9  Before reading this review please note that th...   \n",
       "\n",
       "                                               title  helpful_votes  \\\n",
       "0                        Very unsatisfactory journey              5   \n",
       "1  2.5 Hours On Hold with KrisFlyer Customer Service              0   \n",
       "2                               A trip of two halves              2   \n",
       "3                     Unsuitable business class beds              0   \n",
       "4                           one of the best airlines              4   \n",
       "5              Good one way; average on the way back              1   \n",
       "6  Singapore Airlines Premium Economy - not worth...              4   \n",
       "7                                  Friendly service               0   \n",
       "8                       Simply put, “Not the best”.               7   \n",
       "9              Start and end your holiday on a low!               4   \n",
       "\n",
       "   platform__Desktop  platform__Mobile  \n",
       "0                  0                 1  \n",
       "1                  1                 0  \n",
       "2                  1                 0  \n",
       "3                  1                 0  \n",
       "4                  1                 0  \n",
       "5                  1                 0  \n",
       "6                  1                 0  \n",
       "7                  0                 1  \n",
       "8                  0                 1  \n",
       "9                  0                 1  "
      ]
     },
     "execution_count": 16,
     "metadata": {},
     "output_type": "execute_result"
    }
   ],
   "source": [
    "balanced_data = balanced_data.sample(frac=1, random_state=42).reset_index(drop=True)\n",
    "df= balanced_data\n",
    "df.head(10)"
   ]
  },
  {
   "cell_type": "markdown",
   "metadata": {},
   "source": [
    "Dropping irrelevant features that add no predictive value:"
   ]
  },
  {
   "cell_type": "code",
   "execution_count": 17,
   "metadata": {},
   "outputs": [],
   "source": [
    "df=df.drop(columns=['published_date','type'],axis=1)"
   ]
  },
  {
   "cell_type": "markdown",
   "metadata": {},
   "source": [
    "Specify columns"
   ]
  },
  {
   "cell_type": "code",
   "execution_count": 18,
   "metadata": {},
   "outputs": [],
   "source": [
    "text_columns = ['text', 'title']\n",
    "other_columns = [col for col in df.columns if col not in text_columns + ['rating']]"
   ]
  },
  {
   "cell_type": "markdown",
   "metadata": {},
   "source": [
    "Create Training and Test Data Sets, seperating text columns from non-text columns to aid the vectorization process(the sets will be combined later)"
   ]
  },
  {
   "cell_type": "code",
   "execution_count": 19,
   "metadata": {},
   "outputs": [],
   "source": [
    "X_train_text, X_test_text, y_train, y_test = train_test_split(df[text_columns], df['rating'], test_size=0.25, random_state=1234)\n",
    "X_train_other=df.loc[X_train_text.index,other_columns]\n",
    "X_test_other=df.loc[X_test_text.index,other_columns]"
   ]
  },
  {
   "cell_type": "markdown",
   "metadata": {},
   "source": [
    "Implement TF-IDF Vectorizer to Transform Text"
   ]
  },
  {
   "cell_type": "code",
   "execution_count": 20,
   "metadata": {},
   "outputs": [],
   "source": [
    "tfidf_vectorizer1 = TfidfVectorizer()\n",
    "tfidf_vectorizer2 = TfidfVectorizer()\n",
    "#Two vectorizers as there are two text columns\n",
    "X_train_tfidf1 = tfidf_vectorizer1.fit_transform(X_train_text['text'])\n",
    "X_train_tfidf2 = tfidf_vectorizer2.fit_transform(X_train_text['title'])\n",
    "X_test_tfidf1 = tfidf_vectorizer1.transform(X_test_text['text'])\n",
    "X_test_tfidf2 = tfidf_vectorizer2.transform(X_test_text['title'])"
   ]
  },
  {
   "cell_type": "markdown",
   "metadata": {},
   "source": [
    "Combine TF-IDF features with other features\n",
    "Source: https://stackoverflow.com/questions/63417829/how-to-concatenate-two-tf-idf-vectors-as-well-as-other-features-that-can-be-fed\n",
    "\n",
    "https://stackoverflow.com/questions/20459536/convert-pandas-dataframe-to-sparse-numpy-matrix-directly"
   ]
  },
  {
   "cell_type": "code",
   "execution_count": 21,
   "metadata": {},
   "outputs": [],
   "source": [
    "X_train_other_sparse= scipy.csr_matrix(X_train_other.values)\n",
    "X_test_other_sparse= scipy.csr_matrix(X_test_other.values)\n",
    "\n",
    "X_train_combined= scipy.hstack([X_train_tfidf1, X_train_tfidf2, X_train_other_sparse])\n",
    "X_test_combined= scipy.hstack([X_test_tfidf1, X_test_tfidf2, X_test_other_sparse])"
   ]
  },
  {
   "cell_type": "markdown",
   "metadata": {},
   "source": [
    "Approach 1: Logistic Regression"
   ]
  },
  {
   "cell_type": "code",
   "execution_count": 22,
   "metadata": {},
   "outputs": [],
   "source": [
    "def train_test_LR(X_train, y_train, X_test, y_test, c=1):\n",
    "    model = LogisticRegression(max_iter=500,C=c)\n",
    "    model.fit(X_train, y_train)\n",
    "    probability_predictions = model.predict_proba(X_test)\n",
    "    l_loss = log_loss(y_test, probability_predictions) \n",
    "    class_label_predictions = model.predict(X_test)\n",
    "    acc_score = accuracy_score(y_test, class_label_predictions)\n",
    "    return l_loss, acc_score"
   ]
  },
  {
   "cell_type": "code",
   "execution_count": 23,
   "metadata": {},
   "outputs": [
    {
     "name": "stdout",
     "output_type": "stream",
     "text": [
      "Log loss: 0.7100358884441857\n",
      "Accuracy: 0.7698251321675478\n"
     ]
    }
   ],
   "source": [
    "loss, acc = train_test_LR(X_train_combined, y_train, X_test_combined, y_test)\n",
    "print('Log loss: ' + str(loss))\n",
    "print('Accuracy: ' + str(acc))"
   ]
  },
  {
   "cell_type": "markdown",
   "metadata": {},
   "source": [
    "Logistic Regression- Experimenting with Different Hyperparameters"
   ]
  },
  {
   "cell_type": "code",
   "execution_count": 24,
   "metadata": {},
   "outputs": [
    {
     "name": "stdout",
     "output_type": "stream",
     "text": [
      "c of 1e-10:\n",
      "log loss of 1.609965712299422\n",
      "accuracy score of 0.1939812932086214\n",
      "c of 1e-09:\n",
      "log loss of 1.6099653842281803\n",
      "accuracy score of 0.1939812932086214\n",
      "c of 1e-08:\n",
      "log loss of 1.6099623119130522\n",
      "accuracy score of 0.1939812932086214\n",
      "c of 1e-07:\n",
      "log loss of 1.6099315289790779\n",
      "accuracy score of 0.1939812932086214\n",
      "c of 1e-06:\n",
      "log loss of 1.6096266505926142\n",
      "accuracy score of 0.2277348515656771\n",
      "c of 1e-05:\n",
      "log loss of 1.6068736030541209\n",
      "accuracy score of 0.27897519316795444\n",
      "c of 0.0001:\n",
      "log loss of 1.58945360262948\n",
      "accuracy score of 0.2818218788125254\n",
      "c of 0.001:\n",
      "log loss of 1.5476937346284032\n",
      "accuracy score of 0.30662871085807236\n",
      "c of 0.01:\n",
      "log loss of 1.425085776521673\n",
      "accuracy score of 0.47010980073200487\n",
      "c of 0.1:\n",
      "log loss of 1.0833662253227172\n",
      "accuracy score of 0.6506710044733631\n",
      "c of 1:\n",
      "log loss of 0.7100358884441857\n",
      "accuracy score of 0.7698251321675478\n",
      "c of 10:\n",
      "log loss of 0.584242796941571\n",
      "accuracy score of 0.7942252948352989\n",
      "c of 100:\n",
      "log loss of 0.72798847713746\n",
      "accuracy score of 0.7860919072793818\n",
      "c of 1000:\n",
      "log loss of 1.0528264873389739\n",
      "accuracy score of 0.7840585603904026\n",
      "c of 10000:\n",
      "log loss of 1.880420491212484\n",
      "accuracy score of 0.7820252135014233\n",
      "c of 100000:\n",
      "log loss of 2.61443744786647\n",
      "accuracy score of 0.7816185441236275\n",
      "c of 1000000:\n",
      "log loss of 2.6307955698310277\n",
      "accuracy score of 0.774705164701098\n",
      "c of 10000000:\n",
      "log loss of 2.6914258742330524\n",
      "accuracy score of 0.7722651484343229\n",
      "c of 100000000:\n",
      "log loss of 1.9488744061524736\n",
      "accuracy score of 0.7812118747458316\n",
      "c of 1000000000:\n",
      "log loss of 2.2222876930279267\n",
      "accuracy score of 0.774705164701098\n"
     ]
    }
   ],
   "source": [
    "cs = [10**i for i in range(-10,10)]\n",
    "ll_cs = []\n",
    "acc_cs = []\n",
    "for c in cs:\n",
    "    ll, acc = train_test_LR(X_train_combined, y_train, X_test_combined, y_test, c)\n",
    "    print('c of {0}:\\nlog loss of {1}\\naccuracy score of {2}'.format(c, ll,acc))\n",
    "    ll_cs.append(ll)\n",
    "    acc_cs.append(acc)"
   ]
  },
  {
   "cell_type": "markdown",
   "metadata": {},
   "source": [
    "Highest accuracy score out of this set is with a c value of 10. Let's experiment with values closer to 10"
   ]
  },
  {
   "cell_type": "code",
   "execution_count": 25,
   "metadata": {},
   "outputs": [
    {
     "name": "stdout",
     "output_type": "stream",
     "text": [
      "c of 1:\n",
      "log loss of 0.5919230005996207\n",
      "accuracy score of 0.7991053273688491\n",
      "c of 2:\n",
      "log loss of 0.5919230005996207\n",
      "accuracy score of 0.7991053273688491\n",
      "c of 3:\n",
      "log loss of 0.5919230005996207\n",
      "accuracy score of 0.7991053273688491\n",
      "c of 4:\n",
      "log loss of 0.5919230005996207\n",
      "accuracy score of 0.7991053273688491\n",
      "c of 5:\n",
      "log loss of 0.5919230005996207\n",
      "accuracy score of 0.7991053273688491\n",
      "c of 6:\n",
      "log loss of 0.5919230005996207\n",
      "accuracy score of 0.7991053273688491\n",
      "c of 7:\n",
      "log loss of 0.5919230005996207\n",
      "accuracy score of 0.7991053273688491\n",
      "c of 8:\n",
      "log loss of 0.5919230005996207\n",
      "accuracy score of 0.7991053273688491\n",
      "c of 9:\n",
      "log loss of 0.5919230005996207\n",
      "accuracy score of 0.7991053273688491\n"
     ]
    }
   ],
   "source": [
    "cs_narrow = [i for i in range(1,10)]\n",
    "ll_cs_narrow = []\n",
    "acc_cs_narrow = []\n",
    "for c in cs_narrow:\n",
    "    ll, acc = train_test_LR(X_train_combined, y_train, X_test_combined, y_test, 4)\n",
    "    print('c of {0}:\\nlog loss of {1}\\naccuracy score of {2}'.format(c, ll,acc))\n",
    "    ll_cs_narrow.append(ll)\n",
    "    acc_cs_narrow.append(acc)"
   ]
  },
  {
   "cell_type": "markdown",
   "metadata": {},
   "source": [
    "Overall, the C value of 4 yields the highest accuracy rate of 79.9%"
   ]
  },
  {
   "cell_type": "markdown",
   "metadata": {},
   "source": [
    "Let's visualize the log loss:"
   ]
  },
  {
   "cell_type": "code",
   "execution_count": 26,
   "metadata": {},
   "outputs": [
    {
     "data": {
      "image/png": "[encoded data removed]",
      "text/plain": [
       "<Figure size 640x480 with 1 Axes>"
      ]
     },
     "metadata": {},
     "output_type": "display_data"
    }
   ],
   "source": [
    "cs_log10 = np.log10(cs)\n",
    "fig = plt.figure()\n",
    "ax = fig.add_subplot(111)\n",
    "sns.lineplot(x=cs_log10, y=ll_cs, marker='o')\n",
    "plt.title('Log Loss Test Performance by Regularization Weight C')\n",
    "ax.set_xlabel('Regularization HyperParameter: C')\n",
    "ax.set_ylabel('Log Loss')\n",
    "plt.show()"
   ]
  },
  {
   "cell_type": "markdown",
   "metadata": {},
   "source": [
    "Let's visualize the accuracy score"
   ]
  },
  {
   "cell_type": "code",
   "execution_count": 27,
   "metadata": {},
   "outputs": [
    {
     "data": {
      "image/png": "[encoded data removed]",
      "text/plain": [
       "<Figure size 640x480 with 1 Axes>"
      ]
     },
     "metadata": {},
     "output_type": "display_data"
    }
   ],
   "source": [
    "fig = plt.figure()\n",
    "ax = fig.add_subplot(111)\n",
    "sns.lineplot(x=cs_log10, y=acc_cs, marker='o')\n",
    "plt.title(\"Accuracy Test Performance by Regularization Weight C'\")\n",
    "ax.set_xlabel('Regularization HyperParameter: C')\n",
    "ax.set_ylabel('Accuracy Score')\n",
    "plt.show()"
   ]
  },
  {
   "cell_type": "markdown",
   "metadata": {},
   "source": [
    "Let's utilize a confusion matrix to further grasp the accuracy of the model"
   ]
  },
  {
   "cell_type": "code",
   "execution_count": 28,
   "metadata": {},
   "outputs": [],
   "source": [
    "def predict_logistic_regression(X_train, y_train, X_test, y_test, c=1):\n",
    "    model = LogisticRegression(max_iter=500,C=c)\n",
    "    model.fit(X_train, y_train)\n",
    "    y_pred = model.predict(X_test)\n",
    "    return y_pred"
   ]
  },
  {
   "cell_type": "code",
   "execution_count": 29,
   "metadata": {},
   "outputs": [],
   "source": [
    "y_pred= predict_logistic_regression(X_train_combined, y_train, X_test_combined, y_test, 4)\n",
    "cm = confusion_matrix(y_test, y_pred)"
   ]
  },
  {
   "cell_type": "code",
   "execution_count": 30,
   "metadata": {},
   "outputs": [
    {
     "data": {
      "image/png": "[encoded data removed]",
      "text/plain": [
       "<Figure size 640x480 with 2 Axes>"
      ]
     },
     "metadata": {},
     "output_type": "display_data"
    }
   ],
   "source": [
    "labels = ['1', '2', '3', '4', '5']\n",
    "sns.heatmap(cm, annot=True,fmt='d', cmap='YlGnBu',xticklabels=labels, yticklabels=labels)\n",
    "plt.ylabel('Prediction',fontsize=12)\n",
    "plt.xlabel('Actual',fontsize=12)\n",
    "plt.title('Confusion Matrix',fontsize=16)\n",
    "plt.show()"
   ]
  },
  {
   "cell_type": "markdown",
   "metadata": {},
   "source": [
    "Approach 2: Random Forest"
   ]
  },
  {
   "cell_type": "markdown",
   "metadata": {},
   "source": [
    "To search for the best hyperparameters for Random Forest, grid search will be utilized."
   ]
  },
  {
   "cell_type": "code",
   "execution_count": 31,
   "metadata": {},
   "outputs": [
    {
     "data": {
      "text/plain": [
       "{'max_depth': [3, 5, 7, 10],\n",
       " 'n_estimators': [100, 200, 300, 400, 500],\n",
       " 'min_samples_leaf': [1, 2, 4]}"
      ]
     },
     "execution_count": 31,
     "metadata": {},
     "output_type": "execute_result"
    }
   ],
   "source": [
    "param_grid = {\n",
    "    'max_depth': [3,5,7,10],\n",
    "    'n_estimators': [100, 200, 300, 400, 500],\n",
    "    'min_samples_leaf': [1, 2, 4]\n",
    "}\n",
    "param_grid"
   ]
  },
  {
   "cell_type": "code",
   "execution_count": 32,
   "metadata": {},
   "outputs": [],
   "source": [
    "model = RandomForestClassifier()\n",
    "grid = GridSearchCV(model, param_grid, cv=5)\n",
    "grid_search = grid.fit(X_train_combined, y_train)\n"
   ]
  },
  {
   "cell_type": "code",
   "execution_count": 33,
   "metadata": {},
   "outputs": [
    {
     "data": {
      "text/plain": [
       "{'max_depth': 10, 'min_samples_leaf': 1, 'n_estimators': 400}"
      ]
     },
     "execution_count": 33,
     "metadata": {},
     "output_type": "execute_result"
    }
   ],
   "source": [
    "dt_best_params = grid_search.best_params_\n",
    "dt_best_params"
   ]
  },
  {
   "cell_type": "code",
   "execution_count": 34,
   "metadata": {},
   "outputs": [],
   "source": [
    "dt_model = RandomForestClassifier(max_depth=dt_best_params['max_depth'],\n",
    "                                  n_estimators= dt_best_params['n_estimators'],\n",
    "                                  min_samples_leaf= dt_best_params['min_samples_leaf'])\n",
    "dt_model.fit(X_train_combined, y_train)\n",
    "y_dt_pred = dt_model.predict(X_test_combined)"
   ]
  },
  {
   "cell_type": "code",
   "execution_count": 35,
   "metadata": {},
   "outputs": [
    {
     "name": "stdout",
     "output_type": "stream",
     "text": [
      "[DT] Root Mean Squared Error: 1.0274792965106556\n",
      "[DT] R2: 0.45961533903326846\n"
     ]
    },
    {
     "name": "stderr",
     "output_type": "stream",
     "text": [
      "/home/ubuntu/.pyenv/versions/3.9.19/lib/python3.9/site-packages/sklearn/metrics/_regression.py:483: FutureWarning: 'squared' is deprecated in version 1.4 and will be removed in 1.6. To calculate the root mean squared error, use the function'root_mean_squared_error'.\n",
      "  warnings.warn(\n"
     ]
    }
   ],
   "source": [
    "dt_rmse = mean_squared_error(y_test, y_dt_pred, squared=False)\n",
    "dt_r2 = r2_score(y_test, y_dt_pred)\n",
    "print('[DT] Root Mean Squared Error: {0}'.format(dt_rmse))\n",
    "print('[DT] R2: {0}'.format(dt_r2))"
   ]
  },
  {
   "cell_type": "code",
   "execution_count": 36,
   "metadata": {},
   "outputs": [
    {
     "data": {
      "text/plain": [
       "0.6888979259861733"
      ]
     },
     "execution_count": 36,
     "metadata": {},
     "output_type": "execute_result"
    }
   ],
   "source": [
    "accuracy_score(y_test, y_dt_pred )"
   ]
  },
  {
   "cell_type": "markdown",
   "metadata": {},
   "source": [
    "The accuracy fluctautes slightly upon each run of the program, ranging from 68-69%"
   ]
  },
  {
   "cell_type": "markdown",
   "metadata": {},
   "source": [
    "Let's utilize a confusion matrix to better grasp the results:"
   ]
  },
  {
   "cell_type": "code",
   "execution_count": 37,
   "metadata": {},
   "outputs": [],
   "source": [
    "cm = confusion_matrix(y_test, y_dt_pred)"
   ]
  },
  {
   "cell_type": "code",
   "execution_count": 38,
   "metadata": {},
   "outputs": [
    {
     "data": {
      "image/png": "[encoded data removed]",
      "text/plain": [
       "<Figure size 640x480 with 2 Axes>"
      ]
     },
     "metadata": {},
     "output_type": "display_data"
    }
   ],
   "source": [
    "sns.heatmap(cm, annot=True,fmt='d', cmap='YlGnBu',xticklabels=labels, yticklabels=labels)\n",
    "plt.ylabel('Prediction',fontsize=12)\n",
    "plt.xlabel('Actual',fontsize=12)\n",
    "plt.title('Confusion Matrix',fontsize=16)\n",
    "plt.show()"
   ]
  },
  {
   "cell_type": "markdown",
   "metadata": {},
   "source": [
    "Approach 3: Neural Network"
   ]
  },
  {
   "cell_type": "markdown",
   "metadata": {},
   "source": [
    "Only text features will be processed for the neural network hence non-text features will be dropped from the dataframe and the two text features will be combined."
   ]
  },
  {
   "cell_type": "code",
   "execution_count": 39,
   "metadata": {},
   "outputs": [],
   "source": [
    "df = df.drop(columns=['helpful_votes', 'platform__Desktop', 'platform__Mobile'])"
   ]
  },
  {
   "cell_type": "code",
   "execution_count": 40,
   "metadata": {},
   "outputs": [],
   "source": [
    "def combine_columns(row):\n",
    "    return str(row['title']+\" \") + row['text']\n",
    "df['review'] = df.apply(combine_columns, axis=1)"
   ]
  },
  {
   "cell_type": "code",
   "execution_count": 41,
   "metadata": {},
   "outputs": [
    {
     "data": {
      "text/html": [
       "<div>\n",
       "<style scoped>\n",
       "    .dataframe tbody tr th:only-of-type {\n",
       "        vertical-align: middle;\n",
       "    }\n",
       "\n",
       "    .dataframe tbody tr th {\n",
       "        vertical-align: top;\n",
       "    }\n",
       "\n",
       "    .dataframe thead th {\n",
       "        text-align: right;\n",
       "    }\n",
       "</style>\n",
       "<table border=\"1\" class=\"dataframe\">\n",
       "  <thead>\n",
       "    <tr style=\"text-align: right;\">\n",
       "      <th></th>\n",
       "      <th>rating</th>\n",
       "      <th>review</th>\n",
       "    </tr>\n",
       "  </thead>\n",
       "  <tbody>\n",
       "    <tr>\n",
       "      <th>0</th>\n",
       "      <td>1</td>\n",
       "      <td>Very unsatisfactory journeyWith a 5 hour stopo...</td>\n",
       "    </tr>\n",
       "    <tr>\n",
       "      <th>1</th>\n",
       "      <td>1</td>\n",
       "      <td>2.5 Hours On Hold with KrisFlyer Customer Serv...</td>\n",
       "    </tr>\n",
       "    <tr>\n",
       "      <th>2</th>\n",
       "      <td>4</td>\n",
       "      <td>A trip of two halvesI always look forward to f...</td>\n",
       "    </tr>\n",
       "    <tr>\n",
       "      <th>3</th>\n",
       "      <td>2</td>\n",
       "      <td>Unsuitable business class bedsWe pay to go bus...</td>\n",
       "    </tr>\n",
       "    <tr>\n",
       "      <th>4</th>\n",
       "      <td>5</td>\n",
       "      <td>one of the best airlinesit was amazing experie...</td>\n",
       "    </tr>\n",
       "    <tr>\n",
       "      <th>5</th>\n",
       "      <td>3</td>\n",
       "      <td>Good one way; average on the way backWe were i...</td>\n",
       "    </tr>\n",
       "    <tr>\n",
       "      <th>6</th>\n",
       "      <td>2</td>\n",
       "      <td>Singapore Airlines Premium Economy - not worth...</td>\n",
       "    </tr>\n",
       "    <tr>\n",
       "      <th>7</th>\n",
       "      <td>4</td>\n",
       "      <td>Friendly service Aircraft is not much convenie...</td>\n",
       "    </tr>\n",
       "    <tr>\n",
       "      <th>8</th>\n",
       "      <td>1</td>\n",
       "      <td>Simply put, “Not the best”. I flew them from S...</td>\n",
       "    </tr>\n",
       "    <tr>\n",
       "      <th>9</th>\n",
       "      <td>2</td>\n",
       "      <td>Start and end your holiday on a low! Before re...</td>\n",
       "    </tr>\n",
       "  </tbody>\n",
       "</table>\n",
       "</div>"
      ],
      "text/plain": [
       "   rating                                             review\n",
       "0       1  Very unsatisfactory journeyWith a 5 hour stopo...\n",
       "1       1  2.5 Hours On Hold with KrisFlyer Customer Serv...\n",
       "2       4  A trip of two halvesI always look forward to f...\n",
       "3       2  Unsuitable business class bedsWe pay to go bus...\n",
       "4       5  one of the best airlinesit was amazing experie...\n",
       "5       3  Good one way; average on the way backWe were i...\n",
       "6       2  Singapore Airlines Premium Economy - not worth...\n",
       "7       4  Friendly service Aircraft is not much convenie...\n",
       "8       1  Simply put, “Not the best”. I flew them from S...\n",
       "9       2  Start and end your holiday on a low! Before re..."
      ]
     },
     "execution_count": 41,
     "metadata": {},
     "output_type": "execute_result"
    }
   ],
   "source": [
    "df= df.drop(columns=['title', 'text'])\n",
    "df.head(10)"
   ]
  },
  {
   "cell_type": "code",
   "execution_count": 42,
   "metadata": {},
   "outputs": [],
   "source": [
    "y = df['rating']\n",
    "X = df['review']"
   ]
  },
  {
   "cell_type": "code",
   "execution_count": 43,
   "metadata": {},
   "outputs": [],
   "source": [
    "X_train, X_test, y_train_nn, y_test_nn = train_test_split(X,y, test_size=0.25, random_state=1234)"
   ]
  },
  {
   "cell_type": "code",
   "execution_count": 44,
   "metadata": {},
   "outputs": [],
   "source": [
    "tfidf_vectorizer = TfidfVectorizer()\n",
    "tfidf_vectorizer.fit(X_train)\n",
    "X_train_tfidf = tfidf_vectorizer.transform(X_train)\n",
    "X_test_tfidf = tfidf_vectorizer.transform(X_test)"
   ]
  },
  {
   "cell_type": "code",
   "execution_count": 45,
   "metadata": {},
   "outputs": [
    {
     "data": {
      "text/plain": [
       "18278"
      ]
     },
     "execution_count": 45,
     "metadata": {},
     "output_type": "execute_result"
    }
   ],
   "source": [
    "vocabulary_size = len(tfidf_vectorizer.vocabulary_)\n",
    "vocabulary_size"
   ]
  },
  {
   "cell_type": "markdown",
   "metadata": {},
   "source": [
    "Defining model structure:"
   ]
  },
  {
   "cell_type": "code",
   "execution_count": 46,
   "metadata": {},
   "outputs": [
    {
     "name": "stdout",
     "output_type": "stream",
     "text": [
      "Model: \"sequential\"\n",
      "_________________________________________________________________\n",
      "Layer (type)                 Output Shape              Param #   \n",
      "=================================================================\n",
      "dense (Dense)                (None, 64)                1169856   \n",
      "_________________________________________________________________\n",
      "dense_1 (Dense)              (None, 32)                2080      \n",
      "_________________________________________________________________\n",
      "dense_2 (Dense)              (None, 16)                528       \n",
      "_________________________________________________________________\n",
      "dense_3 (Dense)              (None, 6)                 102       \n",
      "=================================================================\n",
      "Total params: 1,172,566\n",
      "Trainable params: 1,172,566\n",
      "Non-trainable params: 0\n",
      "_________________________________________________________________\n"
     ]
    },
    {
     "name": "stderr",
     "output_type": "stream",
     "text": [
      "2024-07-31 20:41:48.627300: W tensorflow/stream_executor/platform/default/dso_loader.cc:64] Could not load dynamic library 'libcuda.so.1'; dlerror: libcuda.so.1: cannot open shared object file: No such file or directory\n",
      "2024-07-31 20:41:48.627326: W tensorflow/stream_executor/cuda/cuda_driver.cc:326] failed call to cuInit: UNKNOWN ERROR (303)\n",
      "2024-07-31 20:41:48.627400: I tensorflow/stream_executor/cuda/cuda_diagnostics.cc:156] kernel driver does not appear to be running on this host (i-0c19a526e7fd2d7ac): /proc/driver/nvidia/version does not exist\n",
      "2024-07-31 20:41:48.627623: I tensorflow/core/platform/cpu_feature_guard.cc:142] This TensorFlow binary is optimized with oneAPI Deep Neural Network Library (oneDNN) to use the following CPU instructions in performance-critical operations:  AVX2 FMA\n",
      "To enable them in other operations, rebuild TensorFlow with the appropriate compiler flags.\n"
     ]
    }
   ],
   "source": [
    "nn_model = keras.Sequential()\n",
    "input_layer = keras.layers.InputLayer(input_shape=(vocabulary_size,))\n",
    "nn_model.add(input_layer)\n",
    "hidden_layer_1 = keras.layers.Dense(units=64, activation='relu')\n",
    "nn_model.add(hidden_layer_1)\n",
    "hidden_layer_2 = keras.layers.Dense(units=32, activation='relu')\n",
    "nn_model.add(hidden_layer_2)\n",
    "hidden_layer_3 = keras.layers.Dense(units=16, activation='relu')\n",
    "nn_model.add(hidden_layer_3)\n",
    "output_layer = keras.layers.Dense(units=6, activation='sigmoid')\n",
    "nn_model.add(output_layer)\n",
    "nn_model.summary()"
   ]
  },
  {
   "cell_type": "markdown",
   "metadata": {},
   "source": [
    "Defining the optimization function:"
   ]
  },
  {
   "cell_type": "code",
   "execution_count": 47,
   "metadata": {},
   "outputs": [],
   "source": [
    "sgd_optimizer = keras.optimizers.SGD(learning_rate=0.1)"
   ]
  },
  {
   "cell_type": "markdown",
   "metadata": {},
   "source": [
    "Defining the loss function:"
   ]
  },
  {
   "cell_type": "code",
   "execution_count": 48,
   "metadata": {},
   "outputs": [],
   "source": [
    "loss_fn = keras.losses.SparseCategoricalCrossentropy(from_logits=False)"
   ]
  },
  {
   "cell_type": "markdown",
   "metadata": {},
   "source": [
    "Compiling the model: "
   ]
  },
  {
   "cell_type": "code",
   "execution_count": 49,
   "metadata": {},
   "outputs": [],
   "source": [
    "nn_model.compile(optimizer=sgd_optimizer, loss=loss_fn, metrics=['accuracy'])"
   ]
  },
  {
   "cell_type": "markdown",
   "metadata": {},
   "source": [
    "Fitting the model on training data:"
   ]
  },
  {
   "cell_type": "code",
   "execution_count": 50,
   "metadata": {},
   "outputs": [],
   "source": [
    "class ProgBarLoggerNEpochs(keras.callbacks.Callback):\n",
    "    def __init__(self, num_epochs: int, every_n: int = 50):\n",
    "        self.num_epochs = num_epochs\n",
    "        self.every_n = every_n\n",
    "    def on_epoch_end(self, epoch, logs=None):\n",
    "        if (epoch + 1) % self.every_n == 0:\n",
    "            s = 'Epoch [{}/ {}]'.format(epoch + 1, self.num_epochs)\n",
    "            logs_s = ['{}: {:.4f}'.format(k.capitalize(), v)\n",
    "                for k, v in logs.items()]\n",
    "            s_list = [s] + logs_s\n",
    "            print(', '.join(s_list))"
   ]
  },
  {
   "cell_type": "code",
   "execution_count": 51,
   "metadata": {
    "scrolled": true
   },
   "outputs": [
    {
     "name": "stderr",
     "output_type": "stream",
     "text": [
      "2024-07-31 20:41:49.889409: I tensorflow/compiler/mlir/mlir_graph_optimization_pass.cc:176] None of the MLIR Optimization Passes are enabled (registered 2)\n",
      "2024-07-31 20:41:49.893374: I tensorflow/core/platform/profile_utils/cpu_utils.cc:114] CPU Frequency: 2649995000 Hz\n"
     ]
    },
    {
     "name": "stdout",
     "output_type": "stream",
     "text": [
      "Epoch [5/ 55], Loss: 1.1113, Accuracy: 0.4934, Val_loss: 1.1538, Val_accuracy: 0.4702\n",
      "Epoch [10/ 55], Loss: 0.6997, Accuracy: 0.7237, Val_loss: 1.5374, Val_accuracy: 0.4099\n",
      "Epoch [15/ 55], Loss: 0.4361, Accuracy: 0.8486, Val_loss: 5.7870, Val_accuracy: 0.2222\n",
      "Epoch [20/ 55], Loss: 0.3347, Accuracy: 0.8942, Val_loss: 3.3680, Val_accuracy: 0.4092\n",
      "Epoch [25/ 55], Loss: 0.2965, Accuracy: 0.9164, Val_loss: 0.6823, Val_accuracy: 0.7791\n",
      "Epoch [30/ 55], Loss: 0.3104, Accuracy: 0.9171, Val_loss: 0.7874, Val_accuracy: 0.7676\n",
      "Epoch [35/ 55], Loss: 0.3692, Accuracy: 0.9022, Val_loss: 0.7784, Val_accuracy: 0.7812\n",
      "Epoch [40/ 55], Loss: 0.0064, Accuracy: 0.9993, Val_loss: 1.0004, Val_accuracy: 0.7778\n",
      "Epoch [45/ 55], Loss: 0.0042, Accuracy: 0.9993, Val_loss: 1.0858, Val_accuracy: 0.7757\n",
      "Epoch [50/ 55], Loss: 0.0032, Accuracy: 0.9997, Val_loss: 1.1343, Val_accuracy: 0.7778\n",
      "Epoch [55/ 55], Loss: 0.0019, Accuracy: 0.9998, Val_loss: 1.1915, Val_accuracy: 0.7751\n",
      "Elapsed time: 20.09s\n"
     ]
    }
   ],
   "source": [
    "t0 = time.time() \n",
    "num_epochs = 55 \n",
    "\n",
    "history = nn_model.fit(\n",
    "X_train_tfidf.toarray(),\n",
    "y_train_nn,\n",
    "epochs=num_epochs,\n",
    "verbose=0, \n",
    "validation_split=0.2,\n",
    "callbacks=[ProgBarLoggerNEpochs(num_epochs, every_n=5)],\n",
    ")\n",
    "t1 = time.time() # stop time\n",
    "print('Elapsed time: %.2fs' % (t1-t0))"
   ]
  },
  {
   "cell_type": "markdown",
   "metadata": {},
   "source": [
    "Visualizing the training and validation loss:"
   ]
  },
  {
   "cell_type": "code",
   "execution_count": 52,
   "metadata": {},
   "outputs": [
    {
     "data": {
      "image/png": "[encoded data removed]",
      "text/plain": [
       "<Figure size 640x480 with 1 Axes>"
      ]
     },
     "metadata": {},
     "output_type": "display_data"
    },
    {
     "data": {
      "image/png": "[encoded data removed]",
      "text/plain": [
       "<Figure size 640x480 with 1 Axes>"
      ]
     },
     "metadata": {},
     "output_type": "display_data"
    }
   ],
   "source": [
    "history.history.keys()\n",
    "plt.plot(range(1, num_epochs + 1), history.history['loss'], label='Training Loss')\n",
    "plt.plot(range(1, num_epochs + 1), history.history['val_loss'],label='Validation Loss')\n",
    "plt.xlabel('Epoch')\n",
    "plt.ylabel('Loss')\n",
    "plt.legend()\n",
    "plt.show()\n",
    "# Plot training and validation accuracy\n",
    "plt.plot(range(1, num_epochs + 1), history.history['accuracy'], label='Training Accuracy')\n",
    "plt.plot(range(1, num_epochs + 1), history.history['val_accuracy'],label='Validation Accuracy')\n",
    "plt.xlabel('Epoch')\n",
    "plt.ylabel('Accuracy')\n",
    "plt.legend()\n",
    "plt.show()\n"
   ]
  }
 ],
 "metadata": {
  "kernelspec": {
   "display_name": "Python 3 (ipykernel)",
   "language": "python",
   "name": "python3"
  },
  "language_info": {
   "codemirror_mode": {
    "name": "ipython",
    "version": 3
   },
   "file_extension": ".py",
   "mimetype": "text/x-python",
   "name": "python",
   "nbconvert_exporter": "python",
   "pygments_lexer": "ipython3",
   "version": "3.9.19"
  },
  "toc": {
   "base_numbering": 1,
   "nav_menu": {},
   "number_sections": false,
   "sideBar": true,
   "skip_h1_title": false,
   "title_cell": "Table of Contents",
   "title_sidebar": "Contents",
   "toc_cell": false,
   "toc_position": {},
   "toc_section_display": true,
   "toc_window_display": false
  },
  "varInspector": {
   "cols": {
    "lenName": 16,
    "lenType": 16,
    "lenVar": 40
   },
   "kernels_config": {
    "python": {
     "delete_cmd_postfix": "",
     "delete_cmd_prefix": "del ",
     "library": "var_list.py",
     "varRefreshCmd": "print(var_dic_list())"
    },
    "r": {
     "delete_cmd_postfix": ") ",
     "delete_cmd_prefix": "rm(",
     "library": "var_list.r",
     "varRefreshCmd": "cat(var_dic_list()) "
    }
   },
   "types_to_exclude": [
    "module",
    "function",
    "builtin_function_or_method",
    "instance",
    "_Feature"
   ],
   "window_display": false
  }
 },
 "nbformat": 4,
 "nbformat_minor": 4
}
